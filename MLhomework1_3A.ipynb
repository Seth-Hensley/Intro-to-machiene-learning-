{
 "cells": [
  {
   "cell_type": "code",
   "execution_count": 66,
   "id": "6cd9094d-3d75-4dc8-84b2-084333859704",
   "metadata": {},
   "outputs": [
    {
     "data": {
      "text/plain": [
       "(array([[1.        , 0.45802469, 0.66666667, 0.5       , 0.75      ,\n",
       "         0.66666667],\n",
       "        [1.        , 0.55308642, 0.66666667, 1.        , 1.        ,\n",
       "         1.        ],\n",
       "        [1.        , 0.61481481, 0.5       , 0.5       , 0.5       ,\n",
       "         0.66666667],\n",
       "        ...,\n",
       "        [1.        , 0.22345679, 0.33333333, 0.25      , 0.25      ,\n",
       "         0.        ],\n",
       "        [1.        , 0.17962963, 0.5       , 0.25      , 0.25      ,\n",
       "         0.        ],\n",
       "        [1.        , 0.23765432, 0.5       , 0.25      , 0.5       ,\n",
       "         0.        ]]),\n",
       " array([[1.        , 0.39656357, 0.6       , 0.33333333, 0.66666667,\n",
       "         0.66666667],\n",
       "        [1.        , 0.5024055 , 0.6       , 1.        , 1.        ,\n",
       "         1.        ],\n",
       "        [1.        , 0.57113402, 0.4       , 0.33333333, 0.33333333,\n",
       "         0.66666667],\n",
       "        ...,\n",
       "        [1.        , 0.13539519, 0.2       , 0.        , 0.        ,\n",
       "         0.        ],\n",
       "        [1.        , 0.08659794, 0.4       , 0.        , 0.        ,\n",
       "         0.        ],\n",
       "        [1.        , 0.15120275, 0.4       , 0.        , 0.33333333,\n",
       "         0.        ]]))"
      ]
     },
     "execution_count": 66,
     "metadata": {},
     "output_type": "execute_result"
    }
   ],
   "source": [
    "#seth hensley\n",
    "#80105592\n",
    "#homework 3.a\n",
    "\n",
    "\n",
    "import numpy as np\n",
    "import matplotlib.pyplot as plt\n",
    "import pandas as pd\n",
    "\n",
    "alpha = .001\n",
    "iterations = 300000\n",
    "theta = np.zeros(6)\n",
    "penalty =0.0005\n",
    "\n",
    "theta = theta.reshape(6,1)\n",
    "\n",
    "df = pd.read_csv(\"C:\\\\Users\\\\shens\\\\Desktop\\\\Housing.csv\")\n",
    "\n",
    "df.guestroom.replace(('yes', 'no'), (1, 0), inplace=True)\n",
    "df.mainroad.replace(('yes', 'no'), (1, 0), inplace=True)\n",
    "df.basement.replace(('yes', 'no'), (1, 0), inplace=True)\n",
    "df.hotwaterheating.replace(('yes', 'no'), (1, 0), inplace=True)\n",
    "df.airconditioning.replace(('yes', 'no'), (1, 0), inplace=True)\n",
    "df.prefarea.replace(('yes', 'no'), (1, 0), inplace=True)\n",
    "df.furnishingstatus.replace(('furnished', 'semi-furnished','unfurnished'), (1, 0.5,0), inplace=True)\n",
    "\n",
    "dfnorm = df.copy()\n",
    "dfstand = df.copy()\n",
    "\n",
    "\n",
    "#standardization\n",
    "for column in dfstand.columns:\n",
    "    dfstand[column] =  dfstand[column]/ dfstand[column].abs().max()\n",
    "\n",
    "#normalization\n",
    "for column in dfstand.columns:\n",
    "    dfnorm[column] = (dfnorm[column] - dfnorm[column].min()) / (dfnorm[column].max() - dfnorm[column].min()) \n",
    "\n",
    "    \n",
    "x1s= dfstand.values[:,1]\n",
    "x2s= dfstand.values[:,2]\n",
    "x3s= dfstand.values[:,3]\n",
    "x4s= dfstand.values[:,4]\n",
    "x10s= dfstand.values[:,10]\n",
    "Ys = dfstand.values[:,0]\n",
    "\n",
    "\n",
    "x1n= dfnorm.values[:,1]\n",
    "x2n= dfnorm.values[:,2]\n",
    "x3n= dfnorm.values[:,3]\n",
    "x4n= dfnorm.values[:,4]\n",
    "x10n= dfnorm.values[:,10]\n",
    "Yn = dfnorm.values[:,0]\n",
    "\n",
    "m = len(Ys)\n",
    "\n",
    "x0 = np.ones((m,1))\n",
    "x1s =x1s.reshape(m,1)\n",
    "x2s =x2s.reshape(m,1)\n",
    "x3s =x3s.reshape(m,1)\n",
    "x4s =x4s.reshape(m,1)\n",
    "x10s =x10s.reshape(m,1)\n",
    "Ys = Ys.reshape(m,1)\n",
    "\n",
    "\n",
    "x1n =x1n.reshape(m,1)\n",
    "x2n =x2n.reshape(m,1)\n",
    "x3n =x3n.reshape(m,1)\n",
    "x4n =x4n.reshape(m,1)\n",
    "x10n =x10n.reshape(m,1)\n",
    "Yn = Yn.reshape(m,1)\n",
    "\n",
    "\n",
    "Xs= np.hstack((x0, x1s, x2s, x3s, x4s, x10s))\n",
    "Xn = np.hstack((x0, x1n, x2n, x3n, x4n, x10n))\n",
    "\n",
    "Xs,Xn"
   ]
  },
  {
   "cell_type": "code",
   "execution_count": 67,
   "id": "6ad05452-3c5e-4e03-9ca9-6dd29c6aceaa",
   "metadata": {},
   "outputs": [
    {
     "data": {
      "text/plain": [
       "(array([[1.        , 0.01752577, 0.8       , 0.        , 0.33333333,\n",
       "         0.        ],\n",
       "        [1.        , 0.45360825, 0.4       , 0.        , 0.        ,\n",
       "         0.66666667],\n",
       "        [1.        , 0.18900344, 0.6       , 0.        , 0.33333333,\n",
       "         0.66666667],\n",
       "        ...,\n",
       "        [1.        , 0.28865979, 0.2       , 0.        , 0.        ,\n",
       "         0.66666667],\n",
       "        [1.        , 0.34123711, 0.6       , 0.33333333, 0.33333333,\n",
       "         0.33333333],\n",
       "        [1.        , 0.1257732 , 0.4       , 0.        , 0.33333333,\n",
       "         0.33333333]]),\n",
       " 436,\n",
       " array([[1.        , 0.11759259, 0.83333333, 0.25      , 0.5       ,\n",
       "         0.        ],\n",
       "        [1.        , 0.50925926, 0.5       , 0.25      , 0.25      ,\n",
       "         0.66666667],\n",
       "        [1.        , 0.27160494, 0.66666667, 0.25      , 0.5       ,\n",
       "         0.66666667],\n",
       "        ...,\n",
       "        [1.        , 0.36111111, 0.33333333, 0.25      , 0.25      ,\n",
       "         0.66666667],\n",
       "        [1.        , 0.40833333, 0.66666667, 0.5       , 0.5       ,\n",
       "         0.33333333],\n",
       "        [1.        , 0.21481481, 0.5       , 0.25      , 0.5       ,\n",
       "         0.33333333]]))"
      ]
     },
     "execution_count": 67,
     "metadata": {},
     "output_type": "execute_result"
    }
   ],
   "source": [
    "from sklearn.model_selection import train_test_split\n",
    "\n",
    "xsTrain,xsTest,ysTrain,ysTest = train_test_split(Xs,Ys,test_size = .2, random_state = 50)\n",
    "\n",
    "xnTrain,xnTest,ynTrain,ynTest = train_test_split(Xn,Yn,test_size = .2, random_state = 50)\n",
    "\n",
    "mtrain = len(xsTrain)\n",
    "xnTrain,mtrain,xsTrain"
   ]
  },
  {
   "cell_type": "code",
   "execution_count": 68,
   "id": "5da3882a-06f2-49dc-94f9-f5952168c4da",
   "metadata": {},
   "outputs": [],
   "source": [
    "def findLossW_penalties(X, Y, theta):\n",
    "    predictions = X.dot(theta) \n",
    "    errors = np.subtract(predictions, Y) \n",
    "    sqrErrors = np.square(errors) \n",
    "    J = 1 / (2 * m) * np.sum(sqrErrors) + penalty*np.sum(np.square(theta))\n",
    "    return J"
   ]
  },
  {
   "cell_type": "code",
   "execution_count": 69,
   "id": "411170fb-16ff-4331-9737-d7093d642fba",
   "metadata": {},
   "outputs": [],
   "source": [
    "def gradientDescentLOSS(X, Y, theta, alpha, iterations, m, xTest, yTest):\n",
    "    \n",
    "    cost_history = np.zeros(iterations)\n",
    "    cost_historyTest = np.zeros(iterations)\n",
    "    for i in range(iterations): \n",
    "        predictions = X.dot(theta) \n",
    "        errors = np.subtract(predictions, Y) \n",
    "        sum_delta = (alpha / m) * X.transpose().dot(errors); \n",
    "        theta = theta - sum_delta;\n",
    "        cost_history[i] = findLossW_penalties(X, Y, theta)\n",
    "        cost_historyTest[i] = findLossW_penalties(xTest,yTest,theta)\n",
    "    return theta, cost_history, cost_historyTest"
   ]
  },
  {
   "cell_type": "code",
   "execution_count": 70,
   "id": "1357b305-71da-445f-b6e6-85e402daf6b3",
   "metadata": {},
   "outputs": [
    {
     "data": {
      "text/plain": [
       "(array([[-0.01088061],\n",
       "        [ 0.40210795],\n",
       "        [ 0.07791596],\n",
       "        [ 0.33824895],\n",
       "        [ 0.16483663],\n",
       "        [ 0.08549562]]),\n",
       " array([0.07380535, 0.07351554, 0.07322697, ..., 0.00448603, 0.00448603,\n",
       "        0.00448603]),\n",
       " array([0.01441447, 0.01435668, 0.01429914, ..., 0.00082399, 0.00082399,\n",
       "        0.00082399]))"
      ]
     },
     "execution_count": 70,
     "metadata": {},
     "output_type": "execute_result"
    },
    {
     "data": {
      "image/png": "[encoded data removed]",
      "text/plain": [
       "<Figure size 720x432 with 1 Axes>"
      ]
     },
     "metadata": {
      "needs_background": "light"
     },
     "output_type": "display_data"
    }
   ],
   "source": [
    "thetaS, lossTrainS, lossTestS = gradientDescentLOSS(Xs,Ys,theta,alpha,iterations, mtrain,xsTest,ysTest)\n",
    "\n",
    "#thetaS, lossTrainS,lossTestS\n",
    "plt.plot(range(1, iterations + 1),lossTrainS, color='blue') \n",
    "plt.plot(range(1, iterations + 1),lossTestS, color='red') \n",
    "\n",
    "plt.rcParams[\"figure.figsize\"] = (10,6) \n",
    "plt.grid() \n",
    "plt.xlabel('Number of iterations') \n",
    "plt.ylabel('Cost (J)') \n",
    "plt.title('Convergence of gradient descent') \n",
    "\n",
    "thetaS, lossTrainS, lossTestS # 0.00085421"
   ]
  },
  {
   "cell_type": "code",
   "execution_count": 71,
   "id": "acb26bea-f035-4ef9-9100-ced03e8d980d",
   "metadata": {},
   "outputs": [
    {
     "data": {
      "text/plain": [
       "(array([[0.0432525 ],\n",
       "        [0.41674038],\n",
       "        [0.07300776],\n",
       "        [0.29439765],\n",
       "        [0.14226681],\n",
       "        [0.0981485 ]]),\n",
       " array([0.00909907, 0.00907382, 0.00904866, ..., 0.00103041, 0.00103041,\n",
       "        0.00103041]),\n",
       " array([0.00909907, 0.00907382, 0.00904866, ..., 0.00103041, 0.00103041,\n",
       "        0.00103041]))"
      ]
     },
     "execution_count": 71,
     "metadata": {},
     "output_type": "execute_result"
    },
    {
     "data": {
      "image/png": "[encoded data removed]",
      "text/plain": [
       "<Figure size 720x432 with 1 Axes>"
      ]
     },
     "metadata": {
      "needs_background": "light"
     },
     "output_type": "display_data"
    }
   ],
   "source": [
    "thetaN, lossTrainN, lossTestN = gradientDescentLOSS(Xn,Yn,theta,alpha,iterations, mtrain,xnTest,ynTest)\n",
    "\n",
    "\n",
    "plt.plot(range(1, iterations + 1),lossTrainN, color='blue') \n",
    "plt.plot(range(1, iterations + 1),lossTestN, color='red') \n",
    "\n",
    "plt.rcParams[\"figure.figsize\"] = (10,6) \n",
    "plt.grid() \n",
    "plt.xlabel('Number of iterations') \n",
    "plt.ylabel('Cost (J)') \n",
    "plt.title('Convergence of gradient descent') \n",
    "\n",
    "thetaN, lossTestN, lossTestN"
   ]
  },
  {
   "cell_type": "code",
   "execution_count": null,
   "id": "386c7983-1b55-40c1-a6ce-b9a70dc9929c",
   "metadata": {},
   "outputs": [],
   "source": [
    "#0.00105289"
   ]
  },
  {
   "cell_type": "code",
   "execution_count": null,
   "id": "aa1e7ba1-3a28-4baa-ac93-360e7a6e1e9b",
   "metadata": {},
   "outputs": [],
   "source": []
  }
 ],
 "metadata": {
  "kernelspec": {
   "display_name": "Python 3 (ipykernel)",
   "language": "python",
   "name": "python3"
  },
  "language_info": {
   "codemirror_mode": {
    "name": "ipython",
    "version": 3
   },
   "file_extension": ".py",
   "mimetype": "text/x-python",
   "name": "python",
   "nbconvert_exporter": "python",
   "pygments_lexer": "ipython3",
   "version": "3.9.12"
  }
 },
 "nbformat": 4,
 "nbformat_minor": 5
}
