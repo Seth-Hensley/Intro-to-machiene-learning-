{
 "cells": [
  {
   "cell_type": "code",
   "execution_count": 60,
   "id": "35f2736d-0c3e-4e98-8496-9b72ce0631ca",
   "metadata": {},
   "outputs": [
    {
     "data": {
      "text/plain": [
       "(array([[1.        , 0.45802469, 0.66666667, ..., 1.        , 0.66666667,\n",
       "         1.        ],\n",
       "        [1.        , 0.55308642, 0.66666667, ..., 1.        , 1.        ,\n",
       "         0.        ],\n",
       "        [1.        , 0.61481481, 0.5       , ..., 0.        , 0.66666667,\n",
       "         1.        ],\n",
       "        ...,\n",
       "        [1.        , 0.22345679, 0.33333333, ..., 0.        , 0.        ,\n",
       "         0.        ],\n",
       "        [1.        , 0.17962963, 0.5       , ..., 0.        , 0.        ,\n",
       "         0.        ],\n",
       "        [1.        , 0.23765432, 0.5       , ..., 0.        , 0.        ,\n",
       "         0.        ]]),\n",
       " array([[1.        , 0.39656357, 0.6       , ..., 1.        , 0.66666667,\n",
       "         1.        ],\n",
       "        [1.        , 0.5024055 , 0.6       , ..., 1.        , 1.        ,\n",
       "         0.        ],\n",
       "        [1.        , 0.57113402, 0.4       , ..., 0.        , 0.66666667,\n",
       "         1.        ],\n",
       "        ...,\n",
       "        [1.        , 0.13539519, 0.2       , ..., 0.        , 0.        ,\n",
       "         0.        ],\n",
       "        [1.        , 0.08659794, 0.4       , ..., 0.        , 0.        ,\n",
       "         0.        ],\n",
       "        [1.        , 0.15120275, 0.4       , ..., 0.        , 0.        ,\n",
       "         0.        ]]))"
      ]
     },
     "execution_count": 60,
     "metadata": {},
     "output_type": "execute_result"
    }
   ],
   "source": [
    "#seth hensley\n",
    "#80105592\n",
    "#homework 3.b\n",
    "\n",
    "import numpy as np\n",
    "import matplotlib.pyplot as plt\n",
    "import pandas as pd\n",
    "\n",
    "alpha = .001\n",
    "iterations = 8000\n",
    "theta = np.zeros(12)\n",
    "penalty = .001\n",
    "\n",
    "theta = theta.reshape(12,1)\n",
    "\n",
    "df = pd.read_csv(\"C:\\\\Users\\\\shens\\\\Desktop\\\\Housing.csv\")\n",
    "\n",
    "df.guestroom.replace(('yes', 'no'), (1, 0), inplace=True)\n",
    "df.mainroad.replace(('yes', 'no'), (1, 0), inplace=True)\n",
    "df.basement.replace(('yes', 'no'), (1, 0), inplace=True)\n",
    "df.hotwaterheating.replace(('yes', 'no'), (1, 0), inplace=True)\n",
    "df.airconditioning.replace(('yes', 'no'), (1, 0), inplace=True)\n",
    "df.prefarea.replace(('yes', 'no'), (1, 0), inplace=True)\n",
    "df.furnishingstatus.replace(('furnished', 'semi-furnished','unfurnished'), (1, 0.5,0), inplace=True)\n",
    "\n",
    "dfnorm = df.copy()\n",
    "dfstand = df.copy()\n",
    "\n",
    "\n",
    "#standardization\n",
    "for column in dfstand.columns:\n",
    "    dfstand[column] =  dfstand[column]/ dfstand[column].abs().max()\n",
    "\n",
    "#normalization\n",
    "for column in dfstand.columns:\n",
    "    dfnorm[column] = (dfnorm[column] - dfnorm[column].min()) / (dfnorm[column].max() - dfnorm[column].min()) \n",
    "\n",
    "    \n",
    "x1s= dfstand.values[:,1]\n",
    "x2s= dfstand.values[:,2]\n",
    "x3s= dfstand.values[:,3]\n",
    "x4s= dfstand.values[:,4]\n",
    "x5s= dfstand.values[:,5]\n",
    "x6s= dfstand.values[:,6]\n",
    "x7s= dfstand.values[:,7]\n",
    "x8s= dfstand.values[:,8]\n",
    "x9s= dfstand.values[:,9]\n",
    "x10s= dfstand.values[:,10]\n",
    "x11s= dfstand.values[:,11]\n",
    "Ys = dfstand.values[:,0]\n",
    "\n",
    "\n",
    "x1n= dfnorm.values[:,1]\n",
    "x2n= dfnorm.values[:,2]\n",
    "x3n= dfnorm.values[:,3]\n",
    "x4n= dfnorm.values[:,4]\n",
    "x5n= dfnorm.values[:,5]\n",
    "x6n= dfnorm.values[:,6]\n",
    "x7n= dfnorm.values[:,7]\n",
    "x8n= dfnorm.values[:,8]\n",
    "x9n= dfnorm.values[:,9]\n",
    "x10n= dfnorm.values[:,10]\n",
    "x11n= dfnorm.values[:,11]\n",
    "Yn = dfnorm.values[:,0]\n",
    "\n",
    "m = len(Yn)\n",
    "\n",
    "x0 = np.ones((m,1))\n",
    "x1s =x1s.reshape(m,1)\n",
    "x2s =x2s.reshape(m,1)\n",
    "x3s =x3s.reshape(m,1)\n",
    "x4s =x4s.reshape(m,1)\n",
    "x5s =x5s.reshape(m,1)\n",
    "x6s =x6s.reshape(m,1)\n",
    "x7s =x7s.reshape(m,1)\n",
    "x8s =x8s.reshape(m,1)\n",
    "x9s =x9s.reshape(m,1)\n",
    "x10s =x10s.reshape(m,1)\n",
    "x11s =x11s.reshape(m,1)\n",
    "Ys = Ys.reshape(m,1)\n",
    "\n",
    "\n",
    "x1n =x1n.reshape(m,1)\n",
    "x2n =x2n.reshape(m,1)\n",
    "x3n =x3n.reshape(m,1)\n",
    "x4n =x4n.reshape(m,1)\n",
    "x5n =x5n.reshape(m,1)\n",
    "x6n =x6n.reshape(m,1)\n",
    "x7n =x7n.reshape(m,1)\n",
    "x8n =x8n.reshape(m,1)\n",
    "x9n =x9n.reshape(m,1)\n",
    "x10n =x10n.reshape(m,1)\n",
    "x11n =x11n.reshape(m,1)\n",
    "Yn = Yn.reshape(m,1)\n",
    "\n",
    "\n",
    "Xs= np.hstack((x0, x1s, x2s, x3s, x4s, x5s, x6s, x7s, x8s, x9s, x10s, x11s))\n",
    "Xn = np.hstack((x0, x1n, x2n, x3n, x4n, x5n, x6n, x7n, x8n, x9n, x10n,x11n))\n",
    "\n",
    "Xs,Xn"
   ]
  },
  {
   "cell_type": "code",
   "execution_count": 61,
   "id": "ec6e762a-504a-4a46-b6cf-cac7a0048e57",
   "metadata": {},
   "outputs": [
    {
     "data": {
      "text/plain": [
       "(array([[1.        , 0.01752577, 0.8       , ..., 0.        , 0.        ,\n",
       "         0.        ],\n",
       "        [1.        , 0.45360825, 0.4       , ..., 0.        , 0.66666667,\n",
       "         0.        ],\n",
       "        [1.        , 0.18900344, 0.6       , ..., 1.        , 0.66666667,\n",
       "         1.        ],\n",
       "        ...,\n",
       "        [1.        , 0.28865979, 0.2       , ..., 0.        , 0.66666667,\n",
       "         0.        ],\n",
       "        [1.        , 0.34123711, 0.6       , ..., 0.        , 0.33333333,\n",
       "         0.        ],\n",
       "        [1.        , 0.1257732 , 0.4       , ..., 0.        , 0.33333333,\n",
       "         0.        ]]),\n",
       " 436,\n",
       " array([[1.        , 0.11759259, 0.83333333, ..., 0.        , 0.        ,\n",
       "         0.        ],\n",
       "        [1.        , 0.50925926, 0.5       , ..., 0.        , 0.66666667,\n",
       "         0.        ],\n",
       "        [1.        , 0.27160494, 0.66666667, ..., 1.        , 0.66666667,\n",
       "         1.        ],\n",
       "        ...,\n",
       "        [1.        , 0.36111111, 0.33333333, ..., 0.        , 0.66666667,\n",
       "         0.        ],\n",
       "        [1.        , 0.40833333, 0.66666667, ..., 0.        , 0.33333333,\n",
       "         0.        ],\n",
       "        [1.        , 0.21481481, 0.5       , ..., 0.        , 0.33333333,\n",
       "         0.        ]]))"
      ]
     },
     "execution_count": 61,
     "metadata": {},
     "output_type": "execute_result"
    }
   ],
   "source": [
    "from sklearn.model_selection import train_test_split\n",
    "\n",
    "xsTrain,xsTest,ysTrain,ysTest = train_test_split(Xs,Ys,test_size = .2, random_state = 50)\n",
    "\n",
    "xnTrain,xnTest,ynTrain,ynTest = train_test_split(Xn,Yn,test_size = .2, random_state = 50)\n",
    "\n",
    "mtrain = len(xsTrain)\n",
    "xnTrain,mtrain,xsTrain"
   ]
  },
  {
   "cell_type": "code",
   "execution_count": 62,
   "id": "f5c5da6f-bc11-438d-99a0-65a0d7e54455",
   "metadata": {},
   "outputs": [],
   "source": [
    "def findLossW_penalties(X, Y, theta):\n",
    "    predictions = X.dot(theta) \n",
    "    errors = np.subtract(predictions, Y) \n",
    "    sqrErrors = np.square(errors) \n",
    "    J = 1 / (2 * m) * np.sum(sqrErrors) + penalty*np.sum(np.square(theta))\n",
    "    return J"
   ]
  },
  {
   "cell_type": "code",
   "execution_count": 63,
   "id": "07b8c837-6f13-490b-8be7-369724c4373a",
   "metadata": {},
   "outputs": [],
   "source": [
    "def gradientDescentLOSS(X, Y, theta, alpha, iterations, m, xTest, yTest):\n",
    "    \n",
    "    cost_history = np.zeros(iterations)\n",
    "    cost_historyTest = np.zeros(iterations)\n",
    "    for i in range(iterations): \n",
    "        predictions = X.dot(theta) \n",
    "        errors = np.subtract(predictions, Y) \n",
    "        sum_delta = (alpha / m) * X.transpose().dot(errors); \n",
    "        theta = theta - sum_delta;\n",
    "        cost_history[i] = findLossW_penalties(X, Y, theta)\n",
    "        cost_historyTest[i] = findLossW_penalties(xTest,yTest,theta)\n",
    "    return theta, cost_history, cost_historyTest"
   ]
  },
  {
   "cell_type": "code",
   "execution_count": 64,
   "id": "0b0deb33-a973-418b-9c0f-01185b8b8b84",
   "metadata": {},
   "outputs": [
    {
     "data": {
      "text/plain": [
       "(array([[0.09781149],\n",
       "        [0.07803226],\n",
       "        [0.07418665],\n",
       "        [0.08188818],\n",
       "        [0.09460179],\n",
       "        [0.06874671],\n",
       "        [0.03325833],\n",
       "        [0.02816158],\n",
       "        [0.03115258],\n",
       "        [0.08424986],\n",
       "        [0.07336391],\n",
       "        [0.05301532]]),\n",
       " array([0.07360533, 0.07311775, 0.07263366, ..., 0.00427539, 0.00427533,\n",
       "        0.00427526]),\n",
       " array([0.01437395, 0.0142761 , 0.01417895, ..., 0.00078163, 0.00078162,\n",
       "        0.0007816 ]))"
      ]
     },
     "execution_count": 64,
     "metadata": {},
     "output_type": "execute_result"
    },
    {
     "data": {
      "image/png": "[encoded data removed]",
      "text/plain": [
       "<Figure size 720x432 with 1 Axes>"
      ]
     },
     "metadata": {
      "needs_background": "light"
     },
     "output_type": "display_data"
    }
   ],
   "source": [
    "thetaS, lossTrainS, lossTestS = gradientDescentLOSS(Xs,Ys,theta,alpha,iterations, mtrain,xsTest,ysTest)\n",
    "\n",
    "#thetaS, lossTrainS,lossTestS\n",
    "plt.plot(range(1, iterations + 1),lossTrainS, color='blue') \n",
    "plt.plot(range(1, iterations + 1),lossTestS, color='red') \n",
    "\n",
    "plt.rcParams[\"figure.figsize\"] = (10,6) \n",
    "plt.grid() \n",
    "plt.xlabel('Number of iterations') \n",
    "plt.ylabel('Cost (J)') \n",
    "plt.title('Convergence of gradient descent') \n",
    "\n",
    "thetaS, lossTrainS, lossTestS"
   ]
  },
  {
   "cell_type": "code",
   "execution_count": 65,
   "id": "7a0aaeba-c52f-4381-b404-ab1230b7395d",
   "metadata": {},
   "outputs": [
    {
     "data": {
      "text/plain": [
       "(array([[0.05175028],\n",
       "        [0.08022914],\n",
       "        [0.06011308],\n",
       "        [0.08624221],\n",
       "        [0.09602903],\n",
       "        [0.06109877],\n",
       "        [0.03910598],\n",
       "        [0.03064761],\n",
       "        [0.03358715],\n",
       "        [0.09498283],\n",
       "        [0.08274247],\n",
       "        [0.06280754]]),\n",
       " array([0.00907533, 0.00902656, 0.0089781 , ..., 0.0009738 , 0.00097378,\n",
       "        0.00097375]),\n",
       " array([0.00907533, 0.00902656, 0.0089781 , ..., 0.0009738 , 0.00097378,\n",
       "        0.00097375]))"
      ]
     },
     "execution_count": 65,
     "metadata": {},
     "output_type": "execute_result"
    },
    {
     "data": {
      "image/png": "[encoded data removed]",
      "text/plain": [
       "<Figure size 720x432 with 1 Axes>"
      ]
     },
     "metadata": {
      "needs_background": "light"
     },
     "output_type": "display_data"
    }
   ],
   "source": [
    "thetaN, lossTrainN, lossTestN = gradientDescentLOSS(Xn,Yn,theta,alpha,iterations, mtrain,xnTest,ynTest)\n",
    "\n",
    "\n",
    "plt.plot(range(1, iterations + 1),lossTrainN, color='blue') \n",
    "plt.plot(range(1, iterations + 1),lossTestN, color='red') \n",
    "\n",
    "plt.rcParams[\"figure.figsize\"] = (10,6) \n",
    "plt.grid() \n",
    "plt.xlabel('Number of iterations') \n",
    "plt.ylabel('Cost (J)') \n",
    "plt.title('Convergence of gradient descent') \n",
    "\n",
    "thetaN, lossTestN, lossTestN\n"
   ]
  },
  {
   "cell_type": "code",
   "execution_count": null,
   "id": "f24fd919-a1de-4511-b6c3-de38fbf17885",
   "metadata": {},
   "outputs": [],
   "source": []
  }
 ],
 "metadata": {
  "kernelspec": {
   "display_name": "Python 3 (ipykernel)",
   "language": "python",
   "name": "python3"
  },
  "language_info": {
   "codemirror_mode": {
    "name": "ipython",
    "version": 3
   },
   "file_extension": ".py",
   "mimetype": "text/x-python",
   "name": "python",
   "nbconvert_exporter": "python",
   "pygments_lexer": "ipython3",
   "version": "3.9.12"
  }
 },
 "nbformat": 4,
 "nbformat_minor": 5
}
