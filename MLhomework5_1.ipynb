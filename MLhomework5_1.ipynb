{
 "cells": [
  {
   "cell_type": "code",
   "execution_count": 1,
   "id": "a3f2dec0-4ac4-45d6-94a2-73b61cef5803",
   "metadata": {},
   "outputs": [
    {
     "data": {
      "text/plain": [
       "<torch._C.Generator at 0x12eb49c7b50>"
      ]
     },
     "execution_count": 1,
     "metadata": {},
     "output_type": "execute_result"
    }
   ],
   "source": [
    "#Seth Hensley\n",
    "#801055921\n",
    "#homework 5 \n",
    "#1A\n",
    "\n",
    "\n",
    "import numpy as np\n",
    "import matplotlib.pyplot as plt\n",
    "import pandas as pd \n",
    "\n",
    "from matplotlib import pyplot as plt\n",
    "%matplotlib inline\n",
    "import numpy as np\n",
    "import torch\n",
    "import torch.nn as nn\n",
    "import torch.nn.functional as F\n",
    "import torch.optim as optim\n",
    "\n",
    "torch.set_printoptions(edgeitems=2)\n",
    "torch.manual_seed(123)"
   ]
  },
  {
   "cell_type": "code",
   "execution_count": 2,
   "id": "e4bf0e44-5ce0-4f72-a2e9-44f2a76473ce",
   "metadata": {},
   "outputs": [],
   "source": [
    "#1B"
   ]
  },
  {
   "cell_type": "code",
   "execution_count": 3,
   "id": "b5bf2486-dc65-4b1e-91c0-0cb8aba21449",
   "metadata": {},
   "outputs": [],
   "source": [
    "t_c = [0.5, 14.0, 15.0, 28.0, 11.0, 8.0, 3.0, -4.0, 6.0, 13.0, 21.0]\n",
    "t_u = [35.7, 55.9, 58.2, 81.9, 56.3, 48.9, 33.9, 21.8, 48.4, 60.4, 68.4]\n",
    "t_c = torch.tensor(t_c)\n",
    "t_u = torch.tensor(t_u)\n"
   ]
  },
  {
   "cell_type": "code",
   "execution_count": 4,
   "id": "0c94de45-717a-4b0d-84ac-25055159b13c",
   "metadata": {},
   "outputs": [],
   "source": [
    "def model(t_u, w1, w2, b):\n",
    "    return w2 * t_u**2 + w1*t_u + b"
   ]
  },
  {
   "cell_type": "code",
   "execution_count": 5,
   "id": "e1f6fb73-1c4a-41ba-87a5-8a084e1702bd",
   "metadata": {},
   "outputs": [],
   "source": [
    "def loss_fn(t_p, t_c):\n",
    "    squared_diffs = (t_p - t_c)**2\n",
    "    return squared_diffs.mean()\n",
    "\n",
    "def dmodel_dw1(t_u, w1, w2, b):\n",
    "    return t_u\n",
    "\n",
    "def dmodel_dw2(t_u, w1, w2, b):\n",
    "    return t_u**2\n",
    "\n",
    "def dmodel_db(t_u,w1,w2,b):\n",
    "    return 1\n",
    "\n",
    "    "
   ]
  },
  {
   "cell_type": "code",
   "execution_count": 6,
   "id": "3c4f6d4a-9ccc-4ef4-9ca1-9e02b4a02da4",
   "metadata": {},
   "outputs": [],
   "source": [
    "def dloss_fn(t_p, t_c):\n",
    "    dsq_diffs=2* (t_p - t_c) / t_p.size(0)\n",
    "    return dsq_diffs"
   ]
  },
  {
   "cell_type": "code",
   "execution_count": 7,
   "id": "63c3f1bb-f2fe-4318-b268-0ffe1d44d8f8",
   "metadata": {},
   "outputs": [],
   "source": [
    "def grad_fn(t_u, t_c, t_p, w1, w2, b):\n",
    "    dloss_dtp = dloss_fn(t_p, t_c)\n",
    "    dloss_dw1 = dloss_dtp * dmodel_dw1(t_u, w1,w2, b)\n",
    "    dloss_dw2 = dloss_dtp * dmodel_dw2(t_u,w1,w2,b)\n",
    "    dloss_db = dloss_dtp * dmodel_db(t_u, w1,w2, b)\n",
    "    return torch.stack([dloss_dw1.sum(), dloss_dw2.sum(), dloss_db.sum()])"
   ]
  },
  {
   "cell_type": "code",
   "execution_count": 8,
   "id": "b5775043-6085-47f5-8281-a9e2c3f9b702",
   "metadata": {},
   "outputs": [],
   "source": [
    "def training_loop(n_epochs, learning_rate, params, t_u, t_c):\n",
    "    for epoch in range(1, n_epochs + 1):\n",
    "        w1, w2, b = params\n",
    "        t_p = model(t_u, w1,w2, b)\n",
    "        loss = loss_fn(t_p, t_c)\n",
    "        grad = grad_fn(t_u, t_c, t_p, w1, w2, b)\n",
    "        params = params - learning_rate * grad\n",
    "        if epoch%500==0:\n",
    "            print('Epoch %d, Loss %f' % (epoch, float(loss)))\n",
    "    return params"
   ]
  },
  {
   "cell_type": "code",
   "execution_count": 12,
   "id": "f7913afb-212c-4c0b-ab03-7d021891e870",
   "metadata": {},
   "outputs": [
    {
     "name": "stdout",
     "output_type": "stream",
     "text": [
      "Epoch 500, Loss nan\n",
      "Epoch 1000, Loss nan\n",
      "Epoch 1500, Loss nan\n",
      "Epoch 2000, Loss nan\n",
      "Epoch 2500, Loss nan\n",
      "Epoch 3000, Loss nan\n",
      "Epoch 3500, Loss nan\n",
      "Epoch 4000, Loss nan\n",
      "Epoch 4500, Loss nan\n",
      "Epoch 5000, Loss nan\n"
     ]
    },
    {
     "data": {
      "text/plain": [
       "tensor([nan, nan, nan])"
      ]
     },
     "execution_count": 12,
     "metadata": {},
     "output_type": "execute_result"
    }
   ],
   "source": [
    "training_loop(n_epochs = 5000, learning_rate = .00001, params = torch.tensor([1.0, 1.0, 0.0]), t_u = t_u, t_c = t_c)"
   ]
  },
  {
   "cell_type": "code",
   "execution_count": 13,
   "id": "718ef41f-52fe-411c-b064-f0428d4712a9",
   "metadata": {},
   "outputs": [
    {
     "name": "stdout",
     "output_type": "stream",
     "text": [
      "Epoch 500, Loss nan\n",
      "Epoch 1000, Loss nan\n",
      "Epoch 1500, Loss nan\n",
      "Epoch 2000, Loss nan\n",
      "Epoch 2500, Loss nan\n",
      "Epoch 3000, Loss nan\n",
      "Epoch 3500, Loss nan\n",
      "Epoch 4000, Loss nan\n",
      "Epoch 4500, Loss nan\n",
      "Epoch 5000, Loss nan\n"
     ]
    },
    {
     "data": {
      "text/plain": [
       "tensor([nan, nan, nan])"
      ]
     },
     "execution_count": 13,
     "metadata": {},
     "output_type": "execute_result"
    }
   ],
   "source": [
    "training_loop(n_epochs = 5000, learning_rate = .000001, params = torch.tensor([1.0, 1.0, 0.0]), t_u = t_u, t_c = t_c)\n"
   ]
  },
  {
   "cell_type": "code",
   "execution_count": 14,
   "id": "3370bee3-6928-4ba3-b1ea-4d87a3337c80",
   "metadata": {},
   "outputs": [
    {
     "name": "stdout",
     "output_type": "stream",
     "text": [
      "Epoch 500, Loss nan\n",
      "Epoch 1000, Loss nan\n",
      "Epoch 1500, Loss nan\n",
      "Epoch 2000, Loss nan\n",
      "Epoch 2500, Loss nan\n",
      "Epoch 3000, Loss nan\n",
      "Epoch 3500, Loss nan\n",
      "Epoch 4000, Loss nan\n",
      "Epoch 4500, Loss nan\n",
      "Epoch 5000, Loss nan\n"
     ]
    },
    {
     "data": {
      "text/plain": [
       "tensor([nan, nan, nan])"
      ]
     },
     "execution_count": 14,
     "metadata": {},
     "output_type": "execute_result"
    }
   ],
   "source": [
    "training_loop(n_epochs = 5000, learning_rate = .0000001, params = torch.tensor([1.0, 1.0, 0.0]), t_u = t_u, t_c = t_c)\n"
   ]
  },
  {
   "cell_type": "code",
   "execution_count": 17,
   "id": "d5ffba53-ea51-4e1d-92ba-143e8daba657",
   "metadata": {},
   "outputs": [
    {
     "name": "stdout",
     "output_type": "stream",
     "text": [
      "Epoch 500, Loss 204.073151\n",
      "Epoch 1000, Loss 204.009766\n",
      "Epoch 1500, Loss 203.947495\n",
      "Epoch 2000, Loss 203.885147\n",
      "Epoch 2500, Loss 203.822845\n",
      "Epoch 3000, Loss 203.760559\n",
      "Epoch 3500, Loss 203.698227\n",
      "Epoch 4000, Loss 203.636002\n",
      "Epoch 4500, Loss 203.573685\n",
      "Epoch 5000, Loss 203.511429\n"
     ]
    },
    {
     "data": {
      "text/plain": [
       "tensor([ 9.8242e-01, -1.1381e-02, -3.2925e-04])"
      ]
     },
     "execution_count": 17,
     "metadata": {},
     "output_type": "execute_result"
    }
   ],
   "source": [
    "training_loop(n_epochs = 5000, learning_rate = .000000001, params = torch.tensor([1.0, 1.0, 0.0]), t_u = t_u, t_c = t_c)\n"
   ]
  },
  {
   "cell_type": "code",
   "execution_count": null,
   "id": "82726548-cf09-43c8-b4d1-612100bd0053",
   "metadata": {},
   "outputs": [],
   "source": []
  },
  {
   "cell_type": "code",
   "execution_count": null,
   "id": "cd409652-a941-4d13-8a76-99ea5f620466",
   "metadata": {},
   "outputs": [],
   "source": []
  }
 ],
 "metadata": {
  "kernelspec": {
   "display_name": "Python 3 (ipykernel)",
   "language": "python",
   "name": "python3"
  },
  "language_info": {
   "codemirror_mode": {
    "name": "ipython",
    "version": 3
   },
   "file_extension": ".py",
   "mimetype": "text/x-python",
   "name": "python",
   "nbconvert_exporter": "python",
   "pygments_lexer": "ipython3",
   "version": "3.9.12"
  }
 },
 "nbformat": 4,
 "nbformat_minor": 5
}
