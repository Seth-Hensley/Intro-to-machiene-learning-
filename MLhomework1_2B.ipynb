{
 "cells": [
  {
   "cell_type": "code",
   "execution_count": 9,
   "id": "3683e083-90d0-4953-b026-06f993a94fbd",
   "metadata": {},
   "outputs": [
    {
     "data": {
      "text/plain": [
       "(array([[1.        , 0.45802469, 0.66666667, ..., 1.        , 0.66666667,\n",
       "         1.        ],\n",
       "        [1.        , 0.55308642, 0.66666667, ..., 1.        , 1.        ,\n",
       "         0.        ],\n",
       "        [1.        , 0.61481481, 0.5       , ..., 0.        , 0.66666667,\n",
       "         1.        ],\n",
       "        ...,\n",
       "        [1.        , 0.22345679, 0.33333333, ..., 0.        , 0.        ,\n",
       "         0.        ],\n",
       "        [1.        , 0.17962963, 0.5       , ..., 0.        , 0.        ,\n",
       "         0.        ],\n",
       "        [1.        , 0.23765432, 0.5       , ..., 0.        , 0.        ,\n",
       "         0.        ]]),\n",
       " array([[1.        , 0.39656357, 0.6       , ..., 1.        , 0.66666667,\n",
       "         1.        ],\n",
       "        [1.        , 0.5024055 , 0.6       , ..., 1.        , 1.        ,\n",
       "         0.        ],\n",
       "        [1.        , 0.57113402, 0.4       , ..., 0.        , 0.66666667,\n",
       "         1.        ],\n",
       "        ...,\n",
       "        [1.        , 0.13539519, 0.2       , ..., 0.        , 0.        ,\n",
       "         0.        ],\n",
       "        [1.        , 0.08659794, 0.4       , ..., 0.        , 0.        ,\n",
       "         0.        ],\n",
       "        [1.        , 0.15120275, 0.4       , ..., 0.        , 0.        ,\n",
       "         0.        ]]))"
      ]
     },
     "execution_count": 9,
     "metadata": {},
     "output_type": "execute_result"
    }
   ],
   "source": [
    "#seth hensley\n",
    "#80105592\n",
    "#homework 2.b\n",
    "\n",
    "import numpy as np\n",
    "import matplotlib.pyplot as plt\n",
    "import pandas as pd\n",
    "\n",
    "alpha = .001\n",
    "iterations = 2000\n",
    "theta = np.zeros(12)\n",
    "\n",
    "theta = theta.reshape(12,1)\n",
    "\n",
    "df = pd.read_csv(\"C:\\\\Users\\\\shens\\\\Desktop\\\\Housing.csv\")\n",
    "\n",
    "df.guestroom.replace(('yes', 'no'), (1, 0), inplace=True)\n",
    "df.mainroad.replace(('yes', 'no'), (1, 0), inplace=True)\n",
    "df.basement.replace(('yes', 'no'), (1, 0), inplace=True)\n",
    "df.hotwaterheating.replace(('yes', 'no'), (1, 0), inplace=True)\n",
    "df.airconditioning.replace(('yes', 'no'), (1, 0), inplace=True)\n",
    "df.prefarea.replace(('yes', 'no'), (1, 0), inplace=True)\n",
    "df.furnishingstatus.replace(('furnished', 'semi-furnished','unfurnished'), (1, 0.5,0), inplace=True)\n",
    "\n",
    "dfnorm = df.copy()\n",
    "dfstand = df.copy()\n",
    "\n",
    "\n",
    "#standardization\n",
    "for column in dfstand.columns:\n",
    "    dfstand[column] =  dfstand[column]/ dfstand[column].abs().max()\n",
    "\n",
    "#normalization\n",
    "for column in dfstand.columns:\n",
    "    dfnorm[column] = (dfnorm[column] - dfnorm[column].min()) / (dfnorm[column].max() - dfnorm[column].min()) \n",
    "\n",
    "    \n",
    "x1s= dfstand.values[:,1]\n",
    "x2s= dfstand.values[:,2]\n",
    "x3s= dfstand.values[:,3]\n",
    "x4s= dfstand.values[:,4]\n",
    "x5s= dfstand.values[:,5]\n",
    "x6s= dfstand.values[:,6]\n",
    "x7s= dfstand.values[:,7]\n",
    "x8s= dfstand.values[:,8]\n",
    "x9s= dfstand.values[:,9]\n",
    "x10s= dfstand.values[:,10]\n",
    "x11s= dfstand.values[:,11]\n",
    "Ys = dfstand.values[:,0]\n",
    "\n",
    "\n",
    "x1n= dfnorm.values[:,1]\n",
    "x2n= dfnorm.values[:,2]\n",
    "x3n= dfnorm.values[:,3]\n",
    "x4n= dfnorm.values[:,4]\n",
    "x5n= dfnorm.values[:,5]\n",
    "x6n= dfnorm.values[:,6]\n",
    "x7n= dfnorm.values[:,7]\n",
    "x8n= dfnorm.values[:,8]\n",
    "x9n= dfnorm.values[:,9]\n",
    "x10n= dfnorm.values[:,10]\n",
    "x11n= dfnorm.values[:,11]\n",
    "Yn = dfnorm.values[:,0]\n",
    "\n",
    "m = len(Yn)\n",
    "\n",
    "x0 = np.ones((m,1))\n",
    "x1s =x1s.reshape(m,1)\n",
    "x2s =x2s.reshape(m,1)\n",
    "x3s =x3s.reshape(m,1)\n",
    "x4s =x4s.reshape(m,1)\n",
    "x5s =x5s.reshape(m,1)\n",
    "x6s =x6s.reshape(m,1)\n",
    "x7s =x7s.reshape(m,1)\n",
    "x8s =x8s.reshape(m,1)\n",
    "x9s =x9s.reshape(m,1)\n",
    "x10s =x10s.reshape(m,1)\n",
    "x11s =x11s.reshape(m,1)\n",
    "Ys = Ys.reshape(m,1)\n",
    "\n",
    "\n",
    "x1n =x1n.reshape(m,1)\n",
    "x2n =x2n.reshape(m,1)\n",
    "x3n =x3n.reshape(m,1)\n",
    "x4n =x4n.reshape(m,1)\n",
    "x5n =x5n.reshape(m,1)\n",
    "x6n =x6n.reshape(m,1)\n",
    "x7n =x7n.reshape(m,1)\n",
    "x8n =x8n.reshape(m,1)\n",
    "x9n =x9n.reshape(m,1)\n",
    "x10n =x10n.reshape(m,1)\n",
    "x11n =x11n.reshape(m,1)\n",
    "Yn = Yn.reshape(m,1)\n",
    "\n",
    "\n",
    "Xs= np.hstack((x0, x1s, x2s, x3s, x4s, x5s, x6s, x7s, x8s, x9s, x10s, x11s))\n",
    "Xn = np.hstack((x0, x1n, x2n, x3n, x4n, x5n, x6n, x7n, x8n, x9n, x10n,x11n))\n",
    "\n",
    "Xs,Xn"
   ]
  },
  {
   "cell_type": "code",
   "execution_count": 10,
   "id": "30ffe558-82db-4788-a0a9-c7c5d4345e09",
   "metadata": {},
   "outputs": [
    {
     "data": {
      "text/plain": [
       "(array([[1.        , 0.01752577, 0.8       , ..., 0.        , 0.        ,\n",
       "         0.        ],\n",
       "        [1.        , 0.45360825, 0.4       , ..., 0.        , 0.66666667,\n",
       "         0.        ],\n",
       "        [1.        , 0.18900344, 0.6       , ..., 1.        , 0.66666667,\n",
       "         1.        ],\n",
       "        ...,\n",
       "        [1.        , 0.28865979, 0.2       , ..., 0.        , 0.66666667,\n",
       "         0.        ],\n",
       "        [1.        , 0.34123711, 0.6       , ..., 0.        , 0.33333333,\n",
       "         0.        ],\n",
       "        [1.        , 0.1257732 , 0.4       , ..., 0.        , 0.33333333,\n",
       "         0.        ]]),\n",
       " 436,\n",
       " array([[1.        , 0.11759259, 0.83333333, ..., 0.        , 0.        ,\n",
       "         0.        ],\n",
       "        [1.        , 0.50925926, 0.5       , ..., 0.        , 0.66666667,\n",
       "         0.        ],\n",
       "        [1.        , 0.27160494, 0.66666667, ..., 1.        , 0.66666667,\n",
       "         1.        ],\n",
       "        ...,\n",
       "        [1.        , 0.36111111, 0.33333333, ..., 0.        , 0.66666667,\n",
       "         0.        ],\n",
       "        [1.        , 0.40833333, 0.66666667, ..., 0.        , 0.33333333,\n",
       "         0.        ],\n",
       "        [1.        , 0.21481481, 0.5       , ..., 0.        , 0.33333333,\n",
       "         0.        ]]))"
      ]
     },
     "execution_count": 10,
     "metadata": {},
     "output_type": "execute_result"
    }
   ],
   "source": [
    "from sklearn.model_selection import train_test_split\n",
    "\n",
    "xsTrain,xsTest,ysTrain,ysTest = train_test_split(Xs,Ys,test_size = .2, random_state = 50)\n",
    "\n",
    "xnTrain,xnTest,ynTrain,ynTest = train_test_split(Xn,Yn,test_size = .2, random_state = 50)\n",
    "\n",
    "mtrain = len(xsTrain)\n",
    "xnTrain,mtrain,xsTrain"
   ]
  },
  {
   "cell_type": "code",
   "execution_count": 11,
   "id": "a14f48d6-eea8-4fce-a125-2ac3d47d86de",
   "metadata": {},
   "outputs": [],
   "source": [
    "def findLoss(X, Y, theta):\n",
    "    predictions = X.dot(theta) \n",
    "    errors = np.subtract(predictions, Y) \n",
    "    sqrErrors = np.square(errors) \n",
    "    J = 1 / (2 * m) * np.sum(sqrErrors)\n",
    "    return J"
   ]
  },
  {
   "cell_type": "code",
   "execution_count": 12,
   "id": "5b0d460c-35fb-479b-9633-43e72cef35ff",
   "metadata": {},
   "outputs": [],
   "source": [
    "def gradientDescentLOSS(X, Y, theta, alpha, iterations, m, xTest, yTest):\n",
    "    \n",
    "    cost_history = np.zeros(iterations)\n",
    "    cost_historyTest = np.zeros(iterations)\n",
    "    for i in range(iterations): \n",
    "        predictions = X.dot(theta) \n",
    "        errors = np.subtract(predictions, Y) \n",
    "        sum_delta = (alpha / m) * X.transpose().dot(errors); \n",
    "        theta = theta - sum_delta;\n",
    "        cost_history[i] = findLoss(X, Y, theta)\n",
    "        cost_historyTest[i] = findLoss(xTest,yTest,theta)\n",
    "    return theta, cost_history, cost_historyTest"
   ]
  },
  {
   "cell_type": "code",
   "execution_count": 18,
   "id": "69e4487d-8f74-45e2-b1b3-e358e20e75f9",
   "metadata": {},
   "outputs": [
    {
     "data": {
      "text/plain": [
       "array([[0.11717057],\n",
       "       [0.0517547 ],\n",
       "       [0.06659015],\n",
       "       [0.05283063],\n",
       "       [0.07057635],\n",
       "       [0.09881226],\n",
       "       [0.02908172],\n",
       "       [0.04012691],\n",
       "       [0.01273563],\n",
       "       [0.06573408],\n",
       "       [0.04623763],\n",
       "       [0.04212502]])"
      ]
     },
     "execution_count": 18,
     "metadata": {},
     "output_type": "execute_result"
    }
   ],
   "source": [
    "thetaS, lossTrainS, lossTestS = gradientDescentLOSS(Xs,Ys,theta,alpha,iterations, mtrain,xsTest,ysTest)\n",
    "thetaS\n"
   ]
  },
  {
   "cell_type": "code",
   "execution_count": 16,
   "id": "72513c26-8820-4d0b-895d-fb9a56930a86",
   "metadata": {},
   "outputs": [
    {
     "data": {
      "text/plain": [
       "Text(0.5, 1.0, 'Convergence of gradient descent')"
      ]
     },
     "execution_count": 16,
     "metadata": {},
     "output_type": "execute_result"
    },
    {
     "data": {
      "image/png": "[encoded data removed]",
      "text/plain": [
       "<Figure size 720x432 with 1 Axes>"
      ]
     },
     "metadata": {
      "needs_background": "light"
     },
     "output_type": "display_data"
    }
   ],
   "source": [
    "plt.plot(range(1, iterations + 1),lossTrainS, color='blue') \n",
    "plt.plot(range(1, iterations + 1),lossTestS, color='red') \n",
    "\n",
    "plt.rcParams[\"figure.figsize\"] = (10,6) \n",
    "plt.grid() \n",
    "plt.xlabel('Number of iterations') \n",
    "plt.ylabel('Cost (J)') \n",
    "plt.title('Convergence of gradient descent') "
   ]
  },
  {
   "cell_type": "code",
   "execution_count": 15,
   "id": "4a204894-4ab1-445b-9e15-85aeeff11a35",
   "metadata": {},
   "outputs": [],
   "source": [
    "thetaN, lossTrainN, lossTestN = gradientDescentLOSS(Xn,Yn,theta,alpha,iterations, mtrain,xnTest,ynTest)\n"
   ]
  },
  {
   "cell_type": "code",
   "execution_count": 17,
   "id": "ba837a99-530e-43d7-8210-ea74c08ceb30",
   "metadata": {},
   "outputs": [
    {
     "data": {
      "text/plain": [
       "Text(0.5, 1.0, 'Convergence of gradient descent')"
      ]
     },
     "execution_count": 17,
     "metadata": {},
     "output_type": "execute_result"
    },
    {
     "data": {
      "image/png": "[encoded data removed]",
      "text/plain": [
       "<Figure size 720x432 with 1 Axes>"
      ]
     },
     "metadata": {
      "needs_background": "light"
     },
     "output_type": "display_data"
    }
   ],
   "source": [
    "plt.plot(range(1, iterations + 1),lossTrainN, color='blue') \n",
    "plt.plot(range(1, iterations + 1),lossTestN, color='red') \n",
    "\n",
    "plt.rcParams[\"figure.figsize\"] = (10,6) \n",
    "plt.grid() \n",
    "plt.xlabel('Number of iterations') \n",
    "plt.ylabel('Cost (J)') \n",
    "plt.title('Convergence of gradient descent') "
   ]
  },
  {
   "cell_type": "code",
   "execution_count": null,
   "id": "fd384746-6862-40e8-b2d5-b26beaec86ce",
   "metadata": {},
   "outputs": [],
   "source": []
  }
 ],
 "metadata": {
  "kernelspec": {
   "display_name": "Python 3 (ipykernel)",
   "language": "python",
   "name": "python3"
  },
  "language_info": {
   "codemirror_mode": {
    "name": "ipython",
    "version": 3
   },
   "file_extension": ".py",
   "mimetype": "text/x-python",
   "name": "python",
   "nbconvert_exporter": "python",
   "pygments_lexer": "ipython3",
   "version": "3.9.12"
  }
 },
 "nbformat": 4,
 "nbformat_minor": 5
}
