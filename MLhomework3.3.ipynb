{
 "cells": [
  {
   "cell_type": "code",
   "execution_count": 4,
   "id": "167b2ff2-657f-4e59-b131-c8b33d565176",
   "metadata": {},
   "outputs": [],
   "source": [
    "#Seth Hensley\n",
    "#801055921\n",
    "#homework 3.3\n",
    "\n",
    "import warnings\n",
    "import numpy as np\n",
    "import matplotlib.pyplot as plt\n",
    "import pandas as pd\n",
    "\n",
    "from sklearn import metrics\n",
    "from sklearn import datasets \n",
    "from sklearn.datasets import load_breast_cancer\n",
    "from sklearn.naive_bayes import GaussianNB\n",
    "from sklearn.model_selection import train_test_split\n",
    "from sklearn.model_selection import KFold\n",
    "from sklearn.model_selection import cross_val_score\n",
    "from sklearn.linear_model import LogisticRegression\n",
    "from sklearn.metrics import confusion_matrix \n",
    "from sklearn.metrics import classification_report\n",
    "from sklearn.preprocessing import StandardScaler\n",
    "from sklearn.decomposition import PCA\n"
   ]
  },
  {
   "cell_type": "code",
   "execution_count": 5,
   "id": "8421a8f4-fe7d-4835-a02a-44d313045939",
   "metadata": {},
   "outputs": [],
   "source": [
    "cancerData = load_breast_cancer()\n",
    "cancerIN = pd.DataFrame(cancerData.data)\n",
    "cancerY = pd.DataFrame(cancerData.target)\n",
    "\n",
    "sc = StandardScaler()\n",
    "datasetSTD = sc.fit_transform(cancerIN)\n",
    "\n",
    "pdCancerSTD = pd.DataFrame(datasetSTD)\n",
    "\n",
    "dataset = pd.concat([pdCancerSTD,cancerY],axis=1)\n",
    "feature_labels = np.append(('data','data','data','data','data','data','data','data','data','data','data','data','data','data','data','data','data','data','data','data','data','data','data','data','data','data','data','data','data','data'),'target')\n",
    "dataset.columns= feature_labels\n",
    "\n",
    "\n",
    "cancerTrain, cancerTest = train_test_split(dataset, train_size = .8, test_size = 0.2, random_state = 50)\n",
    "#dataset,cancerTrain.shape,cancerTest.shape,dataset\n",
    "pdTrain = pd.DataFrame(cancerTrain)\n",
    "pdTest = pd.DataFrame(cancerTest)\n",
    "\n",
    "pdTrain.columns = feature_labels\n",
    "pdTest.columns = feature_labels\n",
    "\n",
    "#pdTest,pdTrain"
   ]
  },
  {
   "cell_type": "code",
   "execution_count": 6,
   "id": "a93c1a33-9a2a-4a81-b11b-8828a55f57d5",
   "metadata": {},
   "outputs": [
    {
     "name": "stdout",
     "output_type": "stream",
     "text": [
      "GaussianNB()\n",
      "              precision    recall  f1-score   support\n",
      "\n",
      "           0       0.88      0.95      0.91        39\n",
      "           1       0.97      0.93      0.95        75\n",
      "\n",
      "    accuracy                           0.94       114\n",
      "   macro avg       0.93      0.94      0.93       114\n",
      "weighted avg       0.94      0.94      0.94       114\n",
      "\n",
      "[[37  2]\n",
      " [ 5 70]]\n"
     ]
    }
   ],
   "source": [
    "model = GaussianNB()\n",
    "\n",
    "model.fit(pdTrain.data,  pdTrain.target)\n",
    "print(model)\n",
    "expected = pdTest.target\n",
    "predicted = model.predict(pdTest.data)\n",
    "print(metrics.classification_report(expected, predicted))\n",
    "print(metrics.confusion_matrix(expected, predicted))\n"
   ]
  },
  {
   "cell_type": "code",
   "execution_count": null,
   "id": "24b889ab-8175-4579-b043-4eb3d6687bc0",
   "metadata": {},
   "outputs": [],
   "source": []
  }
 ],
 "metadata": {
  "kernelspec": {
   "display_name": "Python 3 (ipykernel)",
   "language": "python",
   "name": "python3"
  },
  "language_info": {
   "codemirror_mode": {
    "name": "ipython",
    "version": 3
   },
   "file_extension": ".py",
   "mimetype": "text/x-python",
   "name": "python",
   "nbconvert_exporter": "python",
   "pygments_lexer": "ipython3",
   "version": "3.9.12"
  }
 },
 "nbformat": 4,
 "nbformat_minor": 5
}
