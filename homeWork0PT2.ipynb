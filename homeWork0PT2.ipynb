{
 "cells": [
  {
   "cell_type": "code",
   "execution_count": 132,
   "id": "ba3536fd-7448-49db-b77f-053e39c85568",
   "metadata": {},
   "outputs": [],
   "source": [
    "#seth hensley\n",
    "#801055921\n",
    "#HW 0 part 2 \n",
    "\n",
    "import numpy as np \n",
    "import matplotlib.pyplot as plt \n",
    "import pandas as pd\n"
   ]
  },
  {
   "cell_type": "code",
   "execution_count": 133,
   "id": "25b356b8-591b-4526-982b-deb77358fa44",
   "metadata": {},
   "outputs": [
    {
     "data": {
      "text/plain": [
       "(         X1        X2        X3         Y\n",
       " 0  0.000000  3.440000  0.440000  4.387545\n",
       " 1  0.040404  0.134949  0.888485  2.679650\n",
       " 2  0.080808  0.829899  1.336970  2.968490\n",
       " 3  0.121212  1.524848  1.785455  3.254065\n",
       " 4  0.161616  2.219798  2.233939  3.536375,\n",
       " (100, 4))"
      ]
     },
     "execution_count": 133,
     "metadata": {},
     "output_type": "execute_result"
    }
   ],
   "source": [
    "dataset = pd.read_csv(\"C:\\\\Users\\\\shens\\\\Desktop\\\\D3.csv\")\n",
    "dataset.head(), dataset.shape"
   ]
  },
  {
   "cell_type": "code",
   "execution_count": 134,
   "id": "70b870f6-f379-4646-b5ff-c2e21bd0605c",
   "metadata": {},
   "outputs": [
    {
     "data": {
      "text/plain": [
       "100"
      ]
     },
     "execution_count": 134,
     "metadata": {},
     "output_type": "execute_result"
    }
   ],
   "source": [
    "x1 = dataset.values[:,0]\n",
    "x2 = dataset.values[:,1]\n",
    "x3 = dataset.values[:,2]\n",
    "y = dataset.values[:,3]\n",
    "\n",
    "m = len(x1)\n",
    "m"
   ]
  },
  {
   "cell_type": "code",
   "execution_count": 135,
   "id": "67f8341c-a401-4470-8c54-990de88f7459",
   "metadata": {},
   "outputs": [],
   "source": [
    "x_0 = np.ones((m,1))\n",
    "\n",
    "x_1 = x1.reshape(m,1)\n",
    "x_2 = x2.reshape(m,1)\n",
    "x_3 = x3.reshape(m,1)\n",
    "Y = y.reshape(m,1)\n",
    "\n",
    "X = np.hstack((x_0,x_1,x_2,x_3))\n",
    "\n",
    "theta = np.zeros(4)"
   ]
  },
  {
   "cell_type": "code",
   "execution_count": 136,
   "id": "9498d8ad-439f-4e1e-8f26-fbffdbe3ea56",
   "metadata": {},
   "outputs": [
    {
     "data": {
      "text/plain": [
       "5.524438459196242"
      ]
     },
     "execution_count": 136,
     "metadata": {},
     "output_type": "execute_result"
    }
   ],
   "source": [
    "def findLoss(X, Y, theta):\n",
    "    predictions = X.dot(theta) \n",
    "    errors = np.subtract(predictions, y) \n",
    "    sqrErrors = np.square(errors) \n",
    "    J = 1 / (2 * m) * np.sum(sqrErrors)\n",
    "    return J\n",
    "\n",
    "error = findLoss(X, Y, theta)\n",
    "error"
   ]
  },
  {
   "cell_type": "code",
   "execution_count": 137,
   "id": "f86ee333-d36d-4e71-8f29-12524fd3fa9b",
   "metadata": {},
   "outputs": [],
   "source": [
    "def gradientDescent(X, Y, theta, alpha, iterations):\n",
    "    \n",
    "    cost_history = np.zeros(iterations)\n",
    "    \n",
    "    for i in range(iterations): \n",
    "        predictions = X.dot(theta) \n",
    "        errors = np.subtract(predictions, y) \n",
    "        sum_delta = (alpha / m) * X.transpose().dot(errors); \n",
    "        theta = theta - sum_delta;\n",
    "        cost_history[i] = findLoss(X, y, theta)\n",
    "    return theta, cost_history "
   ]
  },
  {
   "cell_type": "code",
   "execution_count": 138,
   "id": "5836b0ee-7bb0-45f6-bdc0-a63a16262510",
   "metadata": {},
   "outputs": [
    {
     "data": {
      "text/plain": [
       "(array([ 5.21806423, -1.99014314,  0.54844375, -0.25151513]),)"
      ]
     },
     "execution_count": 138,
     "metadata": {},
     "output_type": "execute_result"
    }
   ],
   "source": [
    "iterations = 4000\n",
    "alpha = .01\n",
    "\n",
    "theta, loss_history = gradientDescent(X, Y, theta, alpha, iterations)\n",
    "theta, "
   ]
  },
  {
   "cell_type": "code",
   "execution_count": 139,
   "id": "71a2edf1-2acb-437c-b67b-940ccca297a9",
   "metadata": {},
   "outputs": [
    {
     "data": {
      "text/plain": [
       "array([[5.21542243],\n",
       "       [4.97171977],\n",
       "       [4.7765543 ],\n",
       "       ...,\n",
       "       [0.73895818],\n",
       "       [0.7389572 ],\n",
       "       [0.73895621]])"
      ]
     },
     "execution_count": 139,
     "metadata": {},
     "output_type": "execute_result"
    }
   ],
   "source": [
    "loss = loss_history.reshape(iterations,1)\n",
    "loss"
   ]
  },
  {
   "cell_type": "code",
   "execution_count": 140,
   "id": "9fc9b46e-f81d-40ea-a4cd-9442aa4d8d21",
   "metadata": {},
   "outputs": [
    {
     "data": {
      "text/plain": [
       "Text(0.5, 1.0, 'Convergence of gradient descent')"
      ]
     },
     "execution_count": 140,
     "metadata": {},
     "output_type": "execute_result"
    },
    {
     "data": {
      "image/png": "[encoded data removed]",
      "text/plain": [
       "<Figure size 720x432 with 1 Axes>"
      ]
     },
     "metadata": {
      "needs_background": "light"
     },
     "output_type": "display_data"
    }
   ],
   "source": [
    "plt.plot(range(1, iterations + 1),loss_history, color='blue') \n",
    "plt.rcParams[\"figure.figsize\"] = (10,6) \n",
    "plt.grid() \n",
    "plt.xlabel('Number of iterations') \n",
    "plt.ylabel('Cost (J)') \n",
    "plt.title('Convergence of gradient descent') "
   ]
  },
  {
   "cell_type": "code",
   "execution_count": null,
   "id": "dcf309df-82fe-471f-84da-e8697f5802b1",
   "metadata": {},
   "outputs": [],
   "source": []
  }
 ],
 "metadata": {
  "kernelspec": {
   "display_name": "Python 3 (ipykernel)",
   "language": "python",
   "name": "python3"
  },
  "language_info": {
   "codemirror_mode": {
    "name": "ipython",
    "version": 3
   },
   "file_extension": ".py",
   "mimetype": "text/x-python",
   "name": "python",
   "nbconvert_exporter": "python",
   "pygments_lexer": "ipython3",
   "version": "3.9.12"
  }
 },
 "nbformat": 4,
 "nbformat_minor": 5
}
