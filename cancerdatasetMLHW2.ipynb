{
 "cells": [
  {
   "cell_type": "code",
   "execution_count": 5,
   "id": "694e3a0c-d289-4540-a77c-0efa85204b67",
   "metadata": {},
   "outputs": [],
   "source": [
    "#Seth Hensley\n",
    "#801055921\n",
    "#homework 2 \n",
    "\n",
    "import numpy as np\n",
    "import matplotlib.pyplot as plt\n",
    "import pandas as pd\n",
    "\n",
    "from sklearn.model_selection import train_test_split\n",
    "from sklearn.model_selection import KFold\n",
    "from sklearn.model_selection import cross_val_score\n",
    "from sklearn.linear_model import LogisticRegression\n",
    "from sklearn.metrics import confusion_matrix \n",
    "from sklearn.metrics import classification_report\n",
    "from sklearn import datasets \n",
    "from sklearn.preprocessing import StandardScaler\n",
    "from sklearn.datasets import load_breast_cancer\n"
   ]
  },
  {
   "cell_type": "code",
   "execution_count": 6,
   "id": "a01df2a7-a9e9-4416-ac9d-f0becc9539cd",
   "metadata": {},
   "outputs": [],
   "source": [
    "cancer = load_breast_cancer()\n",
    "dataset = cancer.data\n",
    "X=dataset\n",
    "Y = cancer.target\n",
    "#Y,dataset,dataset.shape"
   ]
  },
  {
   "cell_type": "code",
   "execution_count": 7,
   "id": "65849b1b-90cf-499b-b3dc-414b90ff6a6e",
   "metadata": {},
   "outputs": [
    {
     "data": {
      "text/plain": [
       "array([[-1.34450029,  0.5346355 , -1.32325205, ..., -1.34334388,\n",
       "        -0.84057964,  0.48739774],\n",
       "       [ 3.77500369,  1.58209417,  3.89649166, ...,  2.25906721,\n",
       "        -0.39639035, -0.51916346],\n",
       "       [-0.12789731, -0.68625859, -0.17338951, ..., -0.40950938,\n",
       "        -0.11981967, -0.31830386],\n",
       "       ...,\n",
       "       [-0.8067862 , -1.4370514 , -0.81092486, ..., -0.40251322,\n",
       "        -0.24218124, -0.18251146],\n",
       "       [-0.92324831, -0.84828378, -0.88563924, ..., -0.52175203,\n",
       "        -0.49696151,  1.38928563],\n",
       "       [-0.44603771, -0.06097825, -0.41313236, ..., -0.32418671,\n",
       "        -1.26800706, -0.65439007]])"
      ]
     },
     "execution_count": 7,
     "metadata": {},
     "output_type": "execute_result"
    }
   ],
   "source": [
    "xTrain,xTest,yTrain,yTest = train_test_split(X,Y,test_size = .2, random_state = 20)\n",
    "\n",
    "sc = StandardScaler()\n",
    "#xTrain['label'].replace(0, 'Benign',inplace=True) \n",
    "#xTest['label'].replace(1, 'Malignant',inplace=True) \n",
    "\n",
    "xTrainSTD = sc.fit_transform(xTrain)\n",
    "xTestSTD = sc.fit_transform(xTest)\n",
    "xTrainSTD"
   ]
  },
  {
   "cell_type": "code",
   "execution_count": 44,
   "id": "482a8fb0-18c1-4b46-b973-2e2c3149df88",
   "metadata": {},
   "outputs": [
    {
     "name": "stdout",
     "output_type": "stream",
     "text": [
      "c: 10000\n",
      "Training accuracy: 0.7956043956043956\n",
      "test accuracy: 0.7631578947368421\n",
      "\n"
     ]
    }
   ],
   "source": [
    "c= 10000\n",
    "    \n",
    "clf = LogisticRegression(penalty = 'l2', C=c, solver = 'liblinear')\n",
    "clf.fit(xTrain, yTrain)\n",
    "print('c:', c)\n",
    "print( 'Training accuracy:', clf.score(xTrainSTD,yTrain))\n",
    "print('test accuracy:', clf.score(xTestSTD,yTest))\n",
    "print('')"
   ]
  },
  {
   "cell_type": "code",
   "execution_count": 45,
   "id": "68e89bc8-4c74-443e-96e2-d9082563c871",
   "metadata": {},
   "outputs": [
    {
     "name": "stdout",
     "output_type": "stream",
     "text": [
      "accuracy: 95.783% (0.854%)\n"
     ]
    }
   ],
   "source": [
    "kfold = KFold(n_splits = 5 , random_state = 20, shuffle= True)\n",
    "results = cross_val_score(clf, X,Y, cv=kfold)\n",
    "\n",
    "print(\"accuracy: %.3f%% (%.3f%%)\" % (results.mean()*100.0, results.std()*100))\n"
   ]
  },
  {
   "cell_type": "code",
   "execution_count": 46,
   "id": "2729fa07-407c-4ef0-93dd-8cc7febcf8d5",
   "metadata": {},
   "outputs": [
    {
     "name": "stdout",
     "output_type": "stream",
     "text": [
      "accuracy: 95.962% (3.331%)\n"
     ]
    }
   ],
   "source": [
    "kfold = KFold(n_splits = 10 , random_state = 20, shuffle= True)\n",
    "results = cross_val_score(clf, X,Y, cv=kfold)\n",
    "\n",
    "print(\"accuracy: %.3f%% (%.3f%%)\" % (results.mean()*100.0, results.std()*100))\n"
   ]
  },
  {
   "cell_type": "code",
   "execution_count": 47,
   "id": "9345b4b6-e313-44b0-823b-b7bd04d75947",
   "metadata": {},
   "outputs": [
    {
     "name": "stdout",
     "output_type": "stream",
     "text": [
      "[[46  2]\n",
      " [ 2 64]]\n"
     ]
    }
   ],
   "source": [
    "clf.fit(xTrainSTD,yTrain)\n",
    "predicted = clf.predict(xTestSTD)\n",
    "matrix = confusion_matrix(yTest, predicted)\n",
    "print(matrix)\n"
   ]
  },
  {
   "cell_type": "code",
   "execution_count": 49,
   "id": "f3c99963-2c5c-47ae-9ca2-118ebe3aa298",
   "metadata": {},
   "outputs": [
    {
     "name": "stdout",
     "output_type": "stream",
     "text": [
      "              precision    recall  f1-score   support\n",
      "\n",
      "           0       0.96      0.96      0.96        48\n",
      "           1       0.97      0.97      0.97        66\n",
      "\n",
      "    accuracy                           0.96       114\n",
      "   macro avg       0.96      0.96      0.96       114\n",
      "weighted avg       0.96      0.96      0.96       114\n",
      "\n"
     ]
    }
   ],
   "source": [
    "clf.fit(xTrainSTD,yTrain)\n",
    "predicted = clf.predict(xTestSTD)\n",
    "report = classification_report(yTest,predicted)\n",
    "print(report)"
   ]
  },
  {
   "cell_type": "code",
   "execution_count": null,
   "id": "386ddbcc-7b50-4e12-bf94-abbd474c1eac",
   "metadata": {},
   "outputs": [],
   "source": []
  }
 ],
 "metadata": {
  "kernelspec": {
   "display_name": "Python 3 (ipykernel)",
   "language": "python",
   "name": "python3"
  },
  "language_info": {
   "codemirror_mode": {
    "name": "ipython",
    "version": 3
   },
   "file_extension": ".py",
   "mimetype": "text/x-python",
   "name": "python",
   "nbconvert_exporter": "python",
   "pygments_lexer": "ipython3",
   "version": "3.9.12"
  }
 },
 "nbformat": 4,
 "nbformat_minor": 5
}
