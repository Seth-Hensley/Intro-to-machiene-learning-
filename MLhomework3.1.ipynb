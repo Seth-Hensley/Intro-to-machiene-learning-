{
 "cells": [
  {
   "cell_type": "code",
   "execution_count": 4,
   "id": "6f8f35be-7f56-48d9-9177-e317a29e4423",
   "metadata": {},
   "outputs": [],
   "source": [
    "#Seth Hensley\n",
    "#801055921\n",
    "#homework 3.1\n",
    "\n",
    "import numpy as np\n",
    "import matplotlib.pyplot as plt\n",
    "import pandas as pd\n",
    "from sklearn import metrics\n",
    "from sklearn import datasets \n",
    "from sklearn.datasets import load_breast_cancer\n",
    "from sklearn.naive_bayes import GaussianNB\n",
    "from sklearn.model_selection import train_test_split\n",
    "from sklearn.metrics import precision_recall_curve"
   ]
  },
  {
   "cell_type": "code",
   "execution_count": 5,
   "id": "9347831c-4c06-4cc0-9721-8f80359560bd",
   "metadata": {},
   "outputs": [],
   "source": [
    "cancerData = load_breast_cancer()\n",
    "cancerIN = pd.DataFrame(cancerData.data)\n",
    "cancerY = pd.DataFrame(cancerData.target)\n",
    "\n",
    "dataset = pd.concat([cancerIN,cancerY],axis=1)\n",
    "#features = cancerData.feature_names \n",
    "feature_labels = np.append(('data','data','data','data','data','data','data','data','data','data','data','data','data','data','data','data','data','data','data','data','data','data','data','data','data','data','data','data','data','data'),'target')\n",
    "\n",
    "dataset.columns= feature_labels\n",
    "\n",
    "cancerTrain, cancerTest = train_test_split(dataset, train_size = .8, test_size = 0.2, random_state = 50)\n",
    "#dataset,cancerTrain.shape,cancerTest.shape,dataset"
   ]
  },
  {
   "cell_type": "code",
   "execution_count": 8,
   "id": "69d993e6-c62d-4aea-a327-3f1be69f8273",
   "metadata": {},
   "outputs": [
    {
     "name": "stdout",
     "output_type": "stream",
     "text": [
      "GaussianNB()\n",
      "              precision    recall  f1-score   support\n",
      "\n",
      "           0       0.90      0.95      0.92        39\n",
      "           1       0.97      0.95      0.96        75\n",
      "\n",
      "    accuracy                           0.95       114\n",
      "   macro avg       0.94      0.95      0.94       114\n",
      "weighted avg       0.95      0.95      0.95       114\n",
      "\n",
      "[[37  2]\n",
      " [ 4 71]]\n"
     ]
    }
   ],
   "source": [
    "model = GaussianNB()\n",
    "\n",
    "model.fit(cancerTrain.data,  cancerTrain.target)\n",
    "print(model)\n",
    "expected = cancerTest.target\n",
    "predicted = model.predict(cancerTest.data)\n",
    "print(metrics.classification_report(expected, predicted))\n",
    "print(metrics.confusion_matrix(expected, predicted))\n",
    "\n",
    "\n"
   ]
  },
  {
   "cell_type": "code",
   "execution_count": null,
   "id": "dec53588-96bc-45d0-9d4e-3efe55a5b3f3",
   "metadata": {},
   "outputs": [],
   "source": []
  },
  {
   "cell_type": "code",
   "execution_count": null,
   "id": "af763a19-d879-4bb3-b63d-85724d672703",
   "metadata": {},
   "outputs": [],
   "source": []
  }
 ],
 "metadata": {
  "kernelspec": {
   "display_name": "Python 3 (ipykernel)",
   "language": "python",
   "name": "python3"
  },
  "language_info": {
   "codemirror_mode": {
    "name": "ipython",
    "version": 3
   },
   "file_extension": ".py",
   "mimetype": "text/x-python",
   "name": "python",
   "nbconvert_exporter": "python",
   "pygments_lexer": "ipython3",
   "version": "3.9.12"
  }
 },
 "nbformat": 4,
 "nbformat_minor": 5
}
