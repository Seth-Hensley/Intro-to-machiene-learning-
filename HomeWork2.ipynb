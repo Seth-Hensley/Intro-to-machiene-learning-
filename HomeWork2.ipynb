{
 "cells": [
  {
   "cell_type": "code",
   "execution_count": 18,
   "id": "d5d5f112-8fe0-41b0-b71e-b37b300784fd",
   "metadata": {},
   "outputs": [],
   "source": [
    "#Seth Hensley\n",
    "#801055921\n",
    "#homework 2 \n",
    "\n",
    "import numpy as np\n",
    "import matplotlib.pyplot as plt\n",
    "import pandas as pd\n",
    "from sklearn.model_selection import train_test_split\n",
    "from sklearn.model_selection import KFold\n",
    "from sklearn.model_selection import cross_val_score\n",
    "from sklearn.linear_model import LogisticRegression\n",
    "from sklearn.metrics import confusion_matrix \n",
    "from sklearn.metrics import classification_report\n",
    "from sklearn import datasets \n",
    "from sklearn.preprocessing import StandardScaler"
   ]
  },
  {
   "cell_type": "code",
   "execution_count": 19,
   "id": "a21c734e-5442-44a5-90e3-fefddecf2075",
   "metadata": {},
   "outputs": [
    {
     "data": {
      "text/html": [
       "<div>\n",
       "<style scoped>\n",
       "    .dataframe tbody tr th:only-of-type {\n",
       "        vertical-align: middle;\n",
       "    }\n",
       "\n",
       "    .dataframe tbody tr th {\n",
       "        vertical-align: top;\n",
       "    }\n",
       "\n",
       "    .dataframe thead th {\n",
       "        text-align: right;\n",
       "    }\n",
       "</style>\n",
       "<table border=\"1\" class=\"dataframe\">\n",
       "  <thead>\n",
       "    <tr style=\"text-align: right;\">\n",
       "      <th></th>\n",
       "      <th>Pregnancies</th>\n",
       "      <th>Glucose</th>\n",
       "      <th>BloodPressure</th>\n",
       "      <th>SkinThickness</th>\n",
       "      <th>Insulin</th>\n",
       "      <th>BMI</th>\n",
       "      <th>DiabetesPedigreeFunction</th>\n",
       "      <th>Age</th>\n",
       "      <th>Outcome</th>\n",
       "    </tr>\n",
       "  </thead>\n",
       "  <tbody>\n",
       "    <tr>\n",
       "      <th>0</th>\n",
       "      <td>6</td>\n",
       "      <td>148</td>\n",
       "      <td>72</td>\n",
       "      <td>35</td>\n",
       "      <td>0</td>\n",
       "      <td>33.6</td>\n",
       "      <td>0.627</td>\n",
       "      <td>50</td>\n",
       "      <td>1</td>\n",
       "    </tr>\n",
       "    <tr>\n",
       "      <th>1</th>\n",
       "      <td>1</td>\n",
       "      <td>85</td>\n",
       "      <td>66</td>\n",
       "      <td>29</td>\n",
       "      <td>0</td>\n",
       "      <td>26.6</td>\n",
       "      <td>0.351</td>\n",
       "      <td>31</td>\n",
       "      <td>0</td>\n",
       "    </tr>\n",
       "    <tr>\n",
       "      <th>2</th>\n",
       "      <td>8</td>\n",
       "      <td>183</td>\n",
       "      <td>64</td>\n",
       "      <td>0</td>\n",
       "      <td>0</td>\n",
       "      <td>23.3</td>\n",
       "      <td>0.672</td>\n",
       "      <td>32</td>\n",
       "      <td>1</td>\n",
       "    </tr>\n",
       "    <tr>\n",
       "      <th>3</th>\n",
       "      <td>1</td>\n",
       "      <td>89</td>\n",
       "      <td>66</td>\n",
       "      <td>23</td>\n",
       "      <td>94</td>\n",
       "      <td>28.1</td>\n",
       "      <td>0.167</td>\n",
       "      <td>21</td>\n",
       "      <td>0</td>\n",
       "    </tr>\n",
       "    <tr>\n",
       "      <th>4</th>\n",
       "      <td>0</td>\n",
       "      <td>137</td>\n",
       "      <td>40</td>\n",
       "      <td>35</td>\n",
       "      <td>168</td>\n",
       "      <td>43.1</td>\n",
       "      <td>2.288</td>\n",
       "      <td>33</td>\n",
       "      <td>1</td>\n",
       "    </tr>\n",
       "  </tbody>\n",
       "</table>\n",
       "</div>"
      ],
      "text/plain": [
       "   Pregnancies  Glucose  BloodPressure  SkinThickness  Insulin   BMI  \\\n",
       "0            6      148             72             35        0  33.6   \n",
       "1            1       85             66             29        0  26.6   \n",
       "2            8      183             64              0        0  23.3   \n",
       "3            1       89             66             23       94  28.1   \n",
       "4            0      137             40             35      168  43.1   \n",
       "\n",
       "   DiabetesPedigreeFunction  Age  Outcome  \n",
       "0                     0.627   50        1  \n",
       "1                     0.351   31        0  \n",
       "2                     0.672   32        1  \n",
       "3                     0.167   21        0  \n",
       "4                     2.288   33        1  "
      ]
     },
     "execution_count": 19,
     "metadata": {},
     "output_type": "execute_result"
    }
   ],
   "source": [
    "dataset = pd.read_csv(\"C:\\\\Users\\\\Owner\\\\Desktop\\\\Intro to ML\\\\diabetes.csv\")\n",
    "dataset.head()\n"
   ]
  },
  {
   "cell_type": "code",
   "execution_count": 20,
   "id": "e1e93d27-e3ef-4a64-b9c4-9adba3135b40",
   "metadata": {},
   "outputs": [
    {
     "data": {
      "text/plain": [
       "(array([[  0.   ,   6.   , 148.   , ...,  33.6  ,   0.627,  50.   ],\n",
       "        [  0.   ,   1.   ,  85.   , ...,  26.6  ,   0.351,  31.   ],\n",
       "        [  0.   ,   8.   , 183.   , ...,  23.3  ,   0.672,  32.   ],\n",
       "        ...,\n",
       "        [  0.   ,   5.   , 121.   , ...,  26.2  ,   0.245,  30.   ],\n",
       "        [  0.   ,   1.   , 126.   , ...,  30.1  ,   0.349,  47.   ],\n",
       "        [  0.   ,   1.   ,  93.   , ...,  30.4  ,   0.315,  23.   ]]),\n",
       " 0      1\n",
       " 1      0\n",
       " 2      1\n",
       " 3      0\n",
       " 4      1\n",
       "       ..\n",
       " 763    0\n",
       " 764    0\n",
       " 765    0\n",
       " 766    1\n",
       " 767    0\n",
       " Name: Outcome, Length: 768, dtype: int64)"
      ]
     },
     "execution_count": 20,
     "metadata": {},
     "output_type": "execute_result"
    }
   ],
   "source": [
    "x1 = dataset.values[:,0]\n",
    "x2 = dataset.values[:,1]\n",
    "x3 = dataset.values[:,2]\n",
    "x4 = dataset.values[:,3]\n",
    "x5 = dataset.values[:,4]\n",
    "x6 = dataset.values[:,5]\n",
    "x7 = dataset.values[:,6]\n",
    "x8 = dataset.values[:,7]\n",
    "\n",
    "Y = dataset.Outcome\n",
    "m = len(Y)\n",
    "x0 = np.zeros((m,1))\n",
    "x1 =x1.reshape(m,1)\n",
    "x2 =x2.reshape(m,1)\n",
    "x3 =x3.reshape(m,1)\n",
    "x4 =x4.reshape(m,1)\n",
    "x5 =x5.reshape(m,1)\n",
    "x6 =x6.reshape(m,1)\n",
    "x7 =x7.reshape(m,1)\n",
    "x8 =x8.reshape(m,1)\n",
    "\n",
    "\n",
    "X = np.hstack((x0,x1,x2,x3,x4,x5,x6,x7,x8))\n",
    "\n",
    "#sc = StandardScaler()\n",
    "#X = sc.fit_transform(X)\n",
    "\n",
    "X,Y"
   ]
  },
  {
   "cell_type": "code",
   "execution_count": 21,
   "id": "0ca95d5a-52ad-4501-832d-83a35888ca95",
   "metadata": {},
   "outputs": [
    {
     "data": {
      "text/plain": [
       "array([[0.00e+00, 1.00e+00, 1.00e+02, ..., 2.53e+01, 6.58e-01, 2.80e+01],\n",
       "       [0.00e+00, 3.00e+00, 1.91e+02, ..., 3.09e+01, 2.99e-01, 3.40e+01],\n",
       "       [0.00e+00, 3.00e+00, 7.80e+01, ..., 3.25e+01, 2.70e-01, 3.90e+01],\n",
       "       ...,\n",
       "       [0.00e+00, 2.00e+00, 1.08e+02, ..., 2.52e+01, 1.28e-01, 2.10e+01],\n",
       "       [0.00e+00, 4.00e+00, 1.14e+02, ..., 2.89e+01, 1.26e-01, 2.40e+01],\n",
       "       [0.00e+00, 9.00e+00, 1.65e+02, ..., 3.04e+01, 3.02e-01, 4.90e+01]])"
      ]
     },
     "execution_count": 21,
     "metadata": {},
     "output_type": "execute_result"
    }
   ],
   "source": [
    "xTrain,xTest,yTrain,yTest = train_test_split(X,Y,test_size = .2, random_state = 20)\n",
    "\n",
    "trainLen = len(xTrain)\n",
    "\n",
    "sc = StandardScaler()\n",
    "xTrainSTD = sc.fit_transform(xTrain)\n",
    "xTestSTD = sc.fit_transform(xTest)\n",
    "xTrain"
   ]
  },
  {
   "cell_type": "code",
   "execution_count": 43,
   "id": "7604dc4b-c65d-44e0-aeb7-370cef98d2a0",
   "metadata": {},
   "outputs": [
    {
     "name": "stdout",
     "output_type": "stream",
     "text": [
      "c: 0.1\n",
      "Training accuracy: 0.6498371335504886\n",
      "test accuracy: 0.6558441558441559\n",
      "\n"
     ]
    }
   ],
   "source": [
    "C = [.1]\n",
    "for c in C:\n",
    "    clf = LogisticRegression(penalty = 'l1', C=c, solver = 'liblinear')\n",
    "    clf.fit(xTrain, yTrain)\n",
    "    print('c:', c)\n",
    "    print( 'Training accuracy:', clf.score(xTrainSTD,yTrain))\n",
    "    print('test accuracy:', clf.score(xTestSTD,yTest))\n",
    "    print('')"
   ]
  },
  {
   "cell_type": "code",
   "execution_count": 44,
   "id": "7ed8e8e8-cdd9-40a9-8d83-04d665453de0",
   "metadata": {},
   "outputs": [
    {
     "name": "stdout",
     "output_type": "stream",
     "text": [
      "[[98  9]\n",
      " [19 28]]\n"
     ]
    }
   ],
   "source": [
    "test_size=.2 \n",
    "seed =0\n",
    "xtr, xt,ytr,yt = train_test_split(X,Y,test_size=test_size,random_state = seed)\n",
    "model = LogisticRegression(solver='liblinear')\n",
    "model.fit(xtr,ytr)\n",
    "predicted = model.predict(xt)\n",
    "matrix = confusion_matrix(yt, predicted)\n",
    "print(matrix)"
   ]
  },
  {
   "cell_type": "code",
   "execution_count": 45,
   "id": "48a8dc20-0433-4c68-a960-808a4d6b8745",
   "metadata": {},
   "outputs": [
    {
     "name": "stdout",
     "output_type": "stream",
     "text": [
      "              precision    recall  f1-score   support\n",
      "\n",
      "           0       0.78      0.89      0.83       101\n",
      "           1       0.72      0.53      0.61        53\n",
      "\n",
      "    accuracy                           0.77       154\n",
      "   macro avg       0.75      0.71      0.72       154\n",
      "weighted avg       0.76      0.77      0.76       154\n",
      "\n"
     ]
    }
   ],
   "source": [
    "model = LogisticRegression(solver='liblinear')\n",
    "model.fit(xTrainSTD,yTrain)\n",
    "predicted = model.predict(xTestSTD)\n",
    "report = classification_report(yTest,predicted)\n",
    "print(report)"
   ]
  },
  {
   "cell_type": "code",
   "execution_count": null,
   "id": "2a09e4e3-591d-41db-9599-34095f929523",
   "metadata": {},
   "outputs": [],
   "source": []
  },
  {
   "cell_type": "code",
   "execution_count": null,
   "id": "d67b2804-c703-4192-b82e-c60ab818e7de",
   "metadata": {},
   "outputs": [],
   "source": []
  }
 ],
 "metadata": {
  "kernelspec": {
   "display_name": "Python 3 (ipykernel)",
   "language": "python",
   "name": "python3"
  },
  "language_info": {
   "codemirror_mode": {
    "name": "ipython",
    "version": 3
   },
   "file_extension": ".py",
   "mimetype": "text/x-python",
   "name": "python",
   "nbconvert_exporter": "python",
   "pygments_lexer": "ipython3",
   "version": "3.9.12"
  }
 },
 "nbformat": 4,
 "nbformat_minor": 5
}
