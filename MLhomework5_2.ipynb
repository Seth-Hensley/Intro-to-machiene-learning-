{
 "cells": [
  {
   "cell_type": "code",
   "execution_count": 2,
   "id": "8c8e01b1-6bd4-4627-9120-ad594122da87",
   "metadata": {},
   "outputs": [
    {
     "data": {
      "text/html": [
       "<div>\n",
       "<style scoped>\n",
       "    .dataframe tbody tr th:only-of-type {\n",
       "        vertical-align: middle;\n",
       "    }\n",
       "\n",
       "    .dataframe tbody tr th {\n",
       "        vertical-align: top;\n",
       "    }\n",
       "\n",
       "    .dataframe thead th {\n",
       "        text-align: right;\n",
       "    }\n",
       "</style>\n",
       "<table border=\"1\" class=\"dataframe\">\n",
       "  <thead>\n",
       "    <tr style=\"text-align: right;\">\n",
       "      <th></th>\n",
       "      <th>price</th>\n",
       "      <th>area</th>\n",
       "      <th>bedrooms</th>\n",
       "      <th>bathrooms</th>\n",
       "      <th>stories</th>\n",
       "      <th>mainroad</th>\n",
       "      <th>guestroom</th>\n",
       "      <th>basement</th>\n",
       "      <th>hotwaterheating</th>\n",
       "      <th>airconditioning</th>\n",
       "      <th>parking</th>\n",
       "      <th>prefarea</th>\n",
       "      <th>furnishingstatus</th>\n",
       "    </tr>\n",
       "  </thead>\n",
       "  <tbody>\n",
       "    <tr>\n",
       "      <th>0</th>\n",
       "      <td>13300000</td>\n",
       "      <td>7420</td>\n",
       "      <td>4</td>\n",
       "      <td>2</td>\n",
       "      <td>3</td>\n",
       "      <td>yes</td>\n",
       "      <td>no</td>\n",
       "      <td>no</td>\n",
       "      <td>no</td>\n",
       "      <td>yes</td>\n",
       "      <td>2</td>\n",
       "      <td>yes</td>\n",
       "      <td>furnished</td>\n",
       "    </tr>\n",
       "    <tr>\n",
       "      <th>1</th>\n",
       "      <td>12250000</td>\n",
       "      <td>8960</td>\n",
       "      <td>4</td>\n",
       "      <td>4</td>\n",
       "      <td>4</td>\n",
       "      <td>yes</td>\n",
       "      <td>no</td>\n",
       "      <td>no</td>\n",
       "      <td>no</td>\n",
       "      <td>yes</td>\n",
       "      <td>3</td>\n",
       "      <td>no</td>\n",
       "      <td>furnished</td>\n",
       "    </tr>\n",
       "    <tr>\n",
       "      <th>2</th>\n",
       "      <td>12250000</td>\n",
       "      <td>9960</td>\n",
       "      <td>3</td>\n",
       "      <td>2</td>\n",
       "      <td>2</td>\n",
       "      <td>yes</td>\n",
       "      <td>no</td>\n",
       "      <td>yes</td>\n",
       "      <td>no</td>\n",
       "      <td>no</td>\n",
       "      <td>2</td>\n",
       "      <td>yes</td>\n",
       "      <td>semi-furnished</td>\n",
       "    </tr>\n",
       "    <tr>\n",
       "      <th>3</th>\n",
       "      <td>12215000</td>\n",
       "      <td>7500</td>\n",
       "      <td>4</td>\n",
       "      <td>2</td>\n",
       "      <td>2</td>\n",
       "      <td>yes</td>\n",
       "      <td>no</td>\n",
       "      <td>yes</td>\n",
       "      <td>no</td>\n",
       "      <td>yes</td>\n",
       "      <td>3</td>\n",
       "      <td>yes</td>\n",
       "      <td>furnished</td>\n",
       "    </tr>\n",
       "    <tr>\n",
       "      <th>4</th>\n",
       "      <td>11410000</td>\n",
       "      <td>7420</td>\n",
       "      <td>4</td>\n",
       "      <td>1</td>\n",
       "      <td>2</td>\n",
       "      <td>yes</td>\n",
       "      <td>yes</td>\n",
       "      <td>yes</td>\n",
       "      <td>no</td>\n",
       "      <td>yes</td>\n",
       "      <td>2</td>\n",
       "      <td>no</td>\n",
       "      <td>furnished</td>\n",
       "    </tr>\n",
       "    <tr>\n",
       "      <th>...</th>\n",
       "      <td>...</td>\n",
       "      <td>...</td>\n",
       "      <td>...</td>\n",
       "      <td>...</td>\n",
       "      <td>...</td>\n",
       "      <td>...</td>\n",
       "      <td>...</td>\n",
       "      <td>...</td>\n",
       "      <td>...</td>\n",
       "      <td>...</td>\n",
       "      <td>...</td>\n",
       "      <td>...</td>\n",
       "      <td>...</td>\n",
       "    </tr>\n",
       "    <tr>\n",
       "      <th>540</th>\n",
       "      <td>1820000</td>\n",
       "      <td>3000</td>\n",
       "      <td>2</td>\n",
       "      <td>1</td>\n",
       "      <td>1</td>\n",
       "      <td>yes</td>\n",
       "      <td>no</td>\n",
       "      <td>yes</td>\n",
       "      <td>no</td>\n",
       "      <td>no</td>\n",
       "      <td>2</td>\n",
       "      <td>no</td>\n",
       "      <td>unfurnished</td>\n",
       "    </tr>\n",
       "    <tr>\n",
       "      <th>541</th>\n",
       "      <td>1767150</td>\n",
       "      <td>2400</td>\n",
       "      <td>3</td>\n",
       "      <td>1</td>\n",
       "      <td>1</td>\n",
       "      <td>no</td>\n",
       "      <td>no</td>\n",
       "      <td>no</td>\n",
       "      <td>no</td>\n",
       "      <td>no</td>\n",
       "      <td>0</td>\n",
       "      <td>no</td>\n",
       "      <td>semi-furnished</td>\n",
       "    </tr>\n",
       "    <tr>\n",
       "      <th>542</th>\n",
       "      <td>1750000</td>\n",
       "      <td>3620</td>\n",
       "      <td>2</td>\n",
       "      <td>1</td>\n",
       "      <td>1</td>\n",
       "      <td>yes</td>\n",
       "      <td>no</td>\n",
       "      <td>no</td>\n",
       "      <td>no</td>\n",
       "      <td>no</td>\n",
       "      <td>0</td>\n",
       "      <td>no</td>\n",
       "      <td>unfurnished</td>\n",
       "    </tr>\n",
       "    <tr>\n",
       "      <th>543</th>\n",
       "      <td>1750000</td>\n",
       "      <td>2910</td>\n",
       "      <td>3</td>\n",
       "      <td>1</td>\n",
       "      <td>1</td>\n",
       "      <td>no</td>\n",
       "      <td>no</td>\n",
       "      <td>no</td>\n",
       "      <td>no</td>\n",
       "      <td>no</td>\n",
       "      <td>0</td>\n",
       "      <td>no</td>\n",
       "      <td>furnished</td>\n",
       "    </tr>\n",
       "    <tr>\n",
       "      <th>544</th>\n",
       "      <td>1750000</td>\n",
       "      <td>3850</td>\n",
       "      <td>3</td>\n",
       "      <td>1</td>\n",
       "      <td>2</td>\n",
       "      <td>yes</td>\n",
       "      <td>no</td>\n",
       "      <td>no</td>\n",
       "      <td>no</td>\n",
       "      <td>no</td>\n",
       "      <td>0</td>\n",
       "      <td>no</td>\n",
       "      <td>unfurnished</td>\n",
       "    </tr>\n",
       "  </tbody>\n",
       "</table>\n",
       "<p>545 rows × 13 columns</p>\n",
       "</div>"
      ],
      "text/plain": [
       "        price  area  bedrooms  bathrooms  stories mainroad guestroom basement  \\\n",
       "0    13300000  7420         4          2        3      yes        no       no   \n",
       "1    12250000  8960         4          4        4      yes        no       no   \n",
       "2    12250000  9960         3          2        2      yes        no      yes   \n",
       "3    12215000  7500         4          2        2      yes        no      yes   \n",
       "4    11410000  7420         4          1        2      yes       yes      yes   \n",
       "..        ...   ...       ...        ...      ...      ...       ...      ...   \n",
       "540   1820000  3000         2          1        1      yes        no      yes   \n",
       "541   1767150  2400         3          1        1       no        no       no   \n",
       "542   1750000  3620         2          1        1      yes        no       no   \n",
       "543   1750000  2910         3          1        1       no        no       no   \n",
       "544   1750000  3850         3          1        2      yes        no       no   \n",
       "\n",
       "    hotwaterheating airconditioning  parking prefarea furnishingstatus  \n",
       "0                no             yes        2      yes        furnished  \n",
       "1                no             yes        3       no        furnished  \n",
       "2                no              no        2      yes   semi-furnished  \n",
       "3                no             yes        3      yes        furnished  \n",
       "4                no             yes        2       no        furnished  \n",
       "..              ...             ...      ...      ...              ...  \n",
       "540              no              no        2       no      unfurnished  \n",
       "541              no              no        0       no   semi-furnished  \n",
       "542              no              no        0       no      unfurnished  \n",
       "543              no              no        0       no        furnished  \n",
       "544              no              no        0       no      unfurnished  \n",
       "\n",
       "[545 rows x 13 columns]"
      ]
     },
     "execution_count": 2,
     "metadata": {},
     "output_type": "execute_result"
    }
   ],
   "source": [
    "#Seth Hensley\n",
    "#801055921\n",
    "#homework 5 problem 2a\n",
    "\n",
    "import numpy as np\n",
    "import matplotlib.pyplot as plt\n",
    "import pandas as pd \n",
    "\n",
    "from matplotlib import pyplot as plt\n",
    "%matplotlib inline\n",
    "import numpy as np\n",
    "import torch\n",
    "import torch.nn as nn\n",
    "import torch.nn.functional as F\n",
    "import torch.optim as optim\n",
    "\n",
    "from sklearn.model_selection import train_test_split\n",
    "from sklearn.model_selection import cross_val_score\n",
    "from sklearn.linear_model import LogisticRegression\n",
    "from sklearn.metrics import confusion_matrix \n",
    "from sklearn.metrics import classification_report\n",
    "from sklearn import datasets \n",
    "from sklearn.preprocessing import StandardScaler\n",
    "\n",
    "dataset = pd.read_csv(\"C:\\\\Users\\\\shens\\\\Desktop\\\\Housing.csv\")\n",
    "dataset"
   ]
  },
  {
   "cell_type": "code",
   "execution_count": 3,
   "id": "1191d888-24f7-4917-b03e-5196cb1c86cd",
   "metadata": {},
   "outputs": [
    {
     "data": {
      "text/plain": [
       "array([[13300000, 7420, 4, 2, 3, 2],\n",
       "       [12250000, 8960, 4, 4, 4, 3],\n",
       "       [12250000, 9960, 3, 2, 2, 2],\n",
       "       ...,\n",
       "       [1750000, 3620, 2, 1, 1, 0],\n",
       "       [1750000, 2910, 3, 1, 1, 0],\n",
       "       [1750000, 3850, 3, 1, 2, 0]], dtype=object)"
      ]
     },
     "execution_count": 3,
     "metadata": {},
     "output_type": "execute_result"
    }
   ],
   "source": [
    "x1 = dataset.values[:,1]\n",
    "x2 = dataset.values[:,2]\n",
    "x3 = dataset.values[:,3]\n",
    "x4 = dataset.values[:,4]\n",
    "x5 = dataset.values[:,10]\n",
    "y = dataset.values[:,0]\n",
    "\n",
    "\n",
    "m = len(y)\n",
    "b = torch.zeros(())\n",
    "x1 =x1.reshape(m,1)\n",
    "x2 =x2.reshape(m,1)\n",
    "x3 =x3.reshape(m,1)\n",
    "x4 =x4.reshape(m,1)\n",
    "x5 =x5.reshape(m,1)\n",
    "\n",
    "y=y.reshape(m,1)\n",
    "\n",
    "x = np.hstack((x1,x2,x3,x4,x5))\n",
    "\n",
    "\n",
    "newDataset = np.hstack((y,x))\n",
    "newDataset"
   ]
  },
  {
   "cell_type": "code",
   "execution_count": 4,
   "id": "5df831fb-1b31-46e8-81a5-2e45df2e54a4",
   "metadata": {},
   "outputs": [
    {
     "data": {
      "text/plain": [
       "array([[ 4.56636513,  1.04672629,  1.40341936,  1.42181174,  1.37821692,\n",
       "         1.51769249],\n",
       "       [ 4.00448405,  1.75700953,  1.40341936,  5.40580863,  2.53202371,\n",
       "         2.67940935],\n",
       "       [ 4.00448405,  2.21823241,  0.04727831,  1.42181174,  0.22441013,\n",
       "         1.51769249],\n",
       "       ...,\n",
       "       [-1.61432675, -0.70592066, -1.30886273, -0.57018671, -0.92939666,\n",
       "        -0.80574124],\n",
       "       [-1.61432675, -1.03338891,  0.04727831, -0.57018671, -0.92939666,\n",
       "        -0.80574124],\n",
       "       [-1.61432675, -0.5998394 ,  0.04727831, -0.57018671,  0.22441013,\n",
       "        -0.80574124]])"
      ]
     },
     "execution_count": 4,
     "metadata": {},
     "output_type": "execute_result"
    }
   ],
   "source": [
    "sc = StandardScaler()\n",
    "standardData = sc.fit_transform(newDataset)\n",
    "standardData"
   ]
  },
  {
   "cell_type": "code",
   "execution_count": 5,
   "id": "0ef5711a-f16d-44fa-a12a-a6ed05a1804b",
   "metadata": {},
   "outputs": [],
   "source": [
    "Y = standardData[:,0]\n",
    "X1 = standardData[:,1]\n",
    "X2 = standardData[:,2]\n",
    "X3 = standardData[:,3]\n",
    "X4 = standardData[:,4]\n",
    "X5 = standardData[:,5]\n",
    "\n",
    "X1=X1.reshape(m,1)\n",
    "X2=X2.reshape(m,1)\n",
    "X3=X3.reshape(m,1)\n",
    "X4=X4.reshape(m,1)\n",
    "X5=X5.reshape(m,1)\n",
    "b=np.zeros((m,1))\n",
    "\n",
    "\n",
    "Y=Y.reshape(m,1)\n",
    "X= np.hstack((X1,X2,X3,X4,X5,b))\n",
    "\n",
    "\n",
    "#X=np.hstack((X,b))\n",
    "\n",
    "#X,Y"
   ]
  },
  {
   "cell_type": "code",
   "execution_count": 6,
   "id": "1d1c373c-5cde-4d43-aec5-eb05dd8827bf",
   "metadata": {},
   "outputs": [],
   "source": [
    "xtrain, xtest, ytrain, ytest = train_test_split(X,Y,test_size = .2, random_state = 20)\n",
    "\n",
    "\n",
    "w1=torch.ones(())\n",
    "w2=torch.ones(())\n",
    "w3=torch.ones(())\n",
    "w4=torch.ones(())\n",
    "w5=torch.ones(())\n",
    "\n",
    "\n",
    "w = np.hstack((w1,w2,w3,w4,w5))\n",
    "\n",
    "#xtrain,xtest"
   ]
  },
  {
   "cell_type": "code",
   "execution_count": 7,
   "id": "abe2c875-d010-4044-b135-2fea938b5727",
   "metadata": {},
   "outputs": [],
   "source": [
    "def model(x,w1,w2,w3,w4,w5):\n",
    "    return x[:,0]*w1+x[:,1]*w2+x[:,2]*w3+x[:,3]*w4+x[:,4]*w5+x[:,5]"
   ]
  },
  {
   "cell_type": "code",
   "execution_count": 8,
   "id": "1eb56e22-a053-4603-bf4a-796a42a354d8",
   "metadata": {},
   "outputs": [],
   "source": [
    "def loss_fn(t_p, t_c):\n",
    "    squared_diffs = (t_p - t_c)**2\n",
    "    return squared_diffs.mean()\n",
    "\n",
    "def dloss_fn(t_p, t_c):\n",
    "    dsq_diffs=2* (t_p - t_c) / t_p.size(0)\n",
    "    return dsq_diffs\n",
    "\n",
    "def dmodel_dw1(t_u, w1, w2, b):\n",
    "    return t_u[:,0]\n",
    "\n",
    "def dmodel_dw2(t_u, w1, w2, b):\n",
    "    return t_u[:,1]\n",
    "\n",
    "def dmodel_dw3(t_u, w1, w2, b):\n",
    "    return t_u[:,2]\n",
    "\n",
    "def dmodel_dw4(t_u, w1, w2, b):\n",
    "    return t_u[:,3]\n",
    "\n",
    "def dmodel_dw5(t_u, w1, w2, b):\n",
    "    return t_u[:,4]\n",
    "\n",
    "def dmodel_db(t_u,w1,w2,b):\n",
    "    return 1"
   ]
  },
  {
   "cell_type": "code",
   "execution_count": 9,
   "id": "46bc377c-0f96-4f41-a750-c08749cac8a1",
   "metadata": {},
   "outputs": [],
   "source": [
    "def grad_fn(t_u, t_c, t_p, w1, w2, w3,w4,w5, b):\n",
    "    dloss_dtp = dloss_fn(t_p, t_c)\n",
    "    dloss_dw1 = dloss_dtp * dmodel_dw1(t_u, w1,w2, b)\n",
    "    dloss_dw2 = dloss_dtp * dmodel_dw2(t_u,w1,w2,b)\n",
    "    dloss_dw3 = dloss_dtp * dmodel_dw2(t_u,w1,w2,b)\n",
    "    dloss_dw4 = dloss_dtp * dmodel_dw2(t_u,w1,w2,b)\n",
    "    dloss_dw5 = dloss_dtp * dmodel_dw2(t_u,w1,w2,b)\n",
    "    dloss_db = dloss_dtp * dmodel_db(t_u, w1,w2, b)\n",
    "    return torch.stack([dloss_dw1.sum(), dloss_dw2.sum(), dloss_dw3.sum(), dloss_dw4.sum(), dloss_dw5.sum(),dloss_db.sum()])"
   ]
  },
  {
   "cell_type": "code",
   "execution_count": 10,
   "id": "c6ef092f-b4e9-44ad-98c6-9aab567e476b",
   "metadata": {},
   "outputs": [],
   "source": [
    "def training_loop(n_epochs, learning_rate, params, t_u, t_c):\n",
    "    for epoch in range(1, n_epochs + 1):\n",
    "        w1, w2, w3, w4, w5, b = params\n",
    "        t_p = model(t_u, w1,w2,w3,w4,w5)\n",
    "        loss = loss_fn(t_p, t_c)\n",
    "        grad = grad_fn(t_u, t_c, t_p, w1, w2, w3, w4, w5, b)\n",
    "        params = params - learning_rate * grad\n",
    "        if epoch%500==0:\n",
    "            print('Epoch %d, Loss %f' % (epoch, float(loss)))\n",
    "    return params"
   ]
  },
  {
   "cell_type": "code",
   "execution_count": 15,
   "id": "ef31de8b-fd2f-43c6-9617-a107cfa917f2",
   "metadata": {},
   "outputs": [
    {
     "name": "stdout",
     "output_type": "stream",
     "text": [
      "Epoch 500, Loss 10.223083\n",
      "Epoch 1000, Loss 10.065888\n",
      "Epoch 1500, Loss 9.911372\n",
      "Epoch 2000, Loss 9.759491\n",
      "Epoch 2500, Loss 9.610199\n",
      "Epoch 3000, Loss 9.463453\n",
      "Epoch 3500, Loss 9.319207\n",
      "Epoch 4000, Loss 9.177421\n",
      "Epoch 4500, Loss 9.038052\n",
      "Epoch 5000, Loss 8.901058\n"
     ]
    },
    {
     "data": {
      "text/plain": [
       "tensor([0.9254, 0.9160, 0.9160, 0.9160, 0.9160, 0.0010], dtype=torch.float64)"
      ]
     },
     "execution_count": 15,
     "metadata": {},
     "output_type": "execute_result"
    }
   ],
   "source": [
    "xtrainT = torch.from_numpy(xtrain)\n",
    "\n",
    "\n",
    "training_loop(n_epochs = 5000, learning_rate = .00000001, params = torch.tensor([1.0, 1.0, 1.0, 1.0, 1.0, 0.0]), t_u = xtrainT, t_c = ytrain)\n"
   ]
  },
  {
   "cell_type": "code",
   "execution_count": 16,
   "id": "1ad95fb6-6959-4895-85cc-7d9baf0a41c2",
   "metadata": {},
   "outputs": [
    {
     "name": "stdout",
     "output_type": "stream",
     "text": [
      "Epoch 500, Loss 8.903398\n",
      "Epoch 1000, Loss 7.655076\n",
      "Epoch 1500, Loss 6.603901\n",
      "Epoch 2000, Loss 5.718696\n",
      "Epoch 2500, Loss 4.973219\n",
      "Epoch 3000, Loss 4.345379\n",
      "Epoch 3500, Loss 3.816582\n",
      "Epoch 4000, Loss 3.371178\n",
      "Epoch 4500, Loss 2.995991\n",
      "Epoch 5000, Loss 2.679928\n"
     ]
    },
    {
     "data": {
      "text/plain": [
       "tensor([0.4685, 0.4145, 0.4145, 0.4145, 0.4145, 0.0035], dtype=torch.float64)"
      ]
     },
     "execution_count": 16,
     "metadata": {},
     "output_type": "execute_result"
    }
   ],
   "source": [
    "training_loop(n_epochs = 5000, learning_rate = .0000001, params = torch.tensor([1.0, 1.0, 1.0, 1.0, 1.0, 0.0]), t_u = xtrainT, t_c = ytrain)\n"
   ]
  },
  {
   "cell_type": "code",
   "execution_count": 17,
   "id": "189ffc30-39f1-4a53-909c-45015f025a7e",
   "metadata": {},
   "outputs": [
    {
     "name": "stdout",
     "output_type": "stream",
     "text": [
      "Epoch 500, Loss 2.682909\n",
      "Epoch 1000, Loss 1.292927\n",
      "Epoch 1500, Loss 1.040466\n",
      "Epoch 2000, Loss 0.993667\n",
      "Epoch 2500, Loss 0.984631\n",
      "Epoch 3000, Loss 0.982743\n",
      "Epoch 3500, Loss 0.982292\n",
      "Epoch 4000, Loss 0.982163\n",
      "Epoch 4500, Loss 0.982118\n",
      "Epoch 5000, Loss 0.982100\n"
     ]
    },
    {
     "data": {
      "text/plain": [
       "tensor([ 0.0038, -0.0004, -0.0004, -0.0004, -0.0004, -0.0861],\n",
       "       dtype=torch.float64)"
      ]
     },
     "execution_count": 17,
     "metadata": {},
     "output_type": "execute_result"
    }
   ],
   "source": [
    "training_loop(n_epochs = 5000, learning_rate = .000001, params = torch.tensor([1.0, 1.0, 1.0, 1.0, 1.0, 0.0]), t_u = xtrainT, t_c = ytrain)\n"
   ]
  },
  {
   "cell_type": "code",
   "execution_count": 19,
   "id": "7f3aa90a-9ae5-41bd-b8f9-21afaecd35f6",
   "metadata": {},
   "outputs": [
    {
     "name": "stdout",
     "output_type": "stream",
     "text": [
      "Epoch 500, Loss 0.982100\n",
      "Epoch 1000, Loss 0.982085\n",
      "Epoch 1500, Loss 0.982085\n",
      "Epoch 2000, Loss 0.982085\n",
      "Epoch 2500, Loss 0.982085\n",
      "Epoch 3000, Loss 0.982085\n",
      "Epoch 3500, Loss 0.982085\n",
      "Epoch 4000, Loss 0.982085\n",
      "Epoch 4500, Loss 0.982085\n",
      "Epoch 5000, Loss 0.982085\n"
     ]
    },
    {
     "data": {
      "text/plain": [
       "tensor([-2.1856e-05, -4.8986e-05, -4.8986e-05, -4.8986e-05, -4.8986e-05,\n",
       "        -1.0802e+00], dtype=torch.float64)"
      ]
     },
     "execution_count": 19,
     "metadata": {},
     "output_type": "execute_result"
    }
   ],
   "source": [
    "training_loop(n_epochs = 5000, learning_rate = .00001, params = torch.tensor([1.0, 1.0, 1.0, 1.0, 1.0, 0.0]), t_u = xtrainT, t_c = ytrain)\n"
   ]
  },
  {
   "cell_type": "code",
   "execution_count": null,
   "id": "d2f73f14-70bf-4004-b13e-0af136c439a4",
   "metadata": {},
   "outputs": [],
   "source": []
  }
 ],
 "metadata": {
  "kernelspec": {
   "display_name": "Python 3 (ipykernel)",
   "language": "python",
   "name": "python3"
  },
  "language_info": {
   "codemirror_mode": {
    "name": "ipython",
    "version": 3
   },
   "file_extension": ".py",
   "mimetype": "text/x-python",
   "name": "python",
   "nbconvert_exporter": "python",
   "pygments_lexer": "ipython3",
   "version": "3.9.12"
  }
 },
 "nbformat": 4,
 "nbformat_minor": 5
}
