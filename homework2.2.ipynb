{
 "cells": [
  {
   "cell_type": "code",
   "execution_count": 1,
   "id": "e51705e4-8116-45fe-bcc5-b61605715775",
   "metadata": {},
   "outputs": [
    {
     "data": {
      "text/html": [
       "<div>\n",
       "<style scoped>\n",
       "    .dataframe tbody tr th:only-of-type {\n",
       "        vertical-align: middle;\n",
       "    }\n",
       "\n",
       "    .dataframe tbody tr th {\n",
       "        vertical-align: top;\n",
       "    }\n",
       "\n",
       "    .dataframe thead th {\n",
       "        text-align: right;\n",
       "    }\n",
       "</style>\n",
       "<table border=\"1\" class=\"dataframe\">\n",
       "  <thead>\n",
       "    <tr style=\"text-align: right;\">\n",
       "      <th></th>\n",
       "      <th>Pregnancies</th>\n",
       "      <th>Glucose</th>\n",
       "      <th>BloodPressure</th>\n",
       "      <th>SkinThickness</th>\n",
       "      <th>Insulin</th>\n",
       "      <th>BMI</th>\n",
       "      <th>DiabetesPedigreeFunction</th>\n",
       "      <th>Age</th>\n",
       "      <th>Outcome</th>\n",
       "    </tr>\n",
       "  </thead>\n",
       "  <tbody>\n",
       "    <tr>\n",
       "      <th>0</th>\n",
       "      <td>6</td>\n",
       "      <td>148</td>\n",
       "      <td>72</td>\n",
       "      <td>35</td>\n",
       "      <td>0</td>\n",
       "      <td>33.6</td>\n",
       "      <td>0.627</td>\n",
       "      <td>50</td>\n",
       "      <td>1</td>\n",
       "    </tr>\n",
       "    <tr>\n",
       "      <th>1</th>\n",
       "      <td>1</td>\n",
       "      <td>85</td>\n",
       "      <td>66</td>\n",
       "      <td>29</td>\n",
       "      <td>0</td>\n",
       "      <td>26.6</td>\n",
       "      <td>0.351</td>\n",
       "      <td>31</td>\n",
       "      <td>0</td>\n",
       "    </tr>\n",
       "    <tr>\n",
       "      <th>2</th>\n",
       "      <td>8</td>\n",
       "      <td>183</td>\n",
       "      <td>64</td>\n",
       "      <td>0</td>\n",
       "      <td>0</td>\n",
       "      <td>23.3</td>\n",
       "      <td>0.672</td>\n",
       "      <td>32</td>\n",
       "      <td>1</td>\n",
       "    </tr>\n",
       "    <tr>\n",
       "      <th>3</th>\n",
       "      <td>1</td>\n",
       "      <td>89</td>\n",
       "      <td>66</td>\n",
       "      <td>23</td>\n",
       "      <td>94</td>\n",
       "      <td>28.1</td>\n",
       "      <td>0.167</td>\n",
       "      <td>21</td>\n",
       "      <td>0</td>\n",
       "    </tr>\n",
       "    <tr>\n",
       "      <th>4</th>\n",
       "      <td>0</td>\n",
       "      <td>137</td>\n",
       "      <td>40</td>\n",
       "      <td>35</td>\n",
       "      <td>168</td>\n",
       "      <td>43.1</td>\n",
       "      <td>2.288</td>\n",
       "      <td>33</td>\n",
       "      <td>1</td>\n",
       "    </tr>\n",
       "  </tbody>\n",
       "</table>\n",
       "</div>"
      ],
      "text/plain": [
       "   Pregnancies  Glucose  BloodPressure  SkinThickness  Insulin   BMI  \\\n",
       "0            6      148             72             35        0  33.6   \n",
       "1            1       85             66             29        0  26.6   \n",
       "2            8      183             64              0        0  23.3   \n",
       "3            1       89             66             23       94  28.1   \n",
       "4            0      137             40             35      168  43.1   \n",
       "\n",
       "   DiabetesPedigreeFunction  Age  Outcome  \n",
       "0                     0.627   50        1  \n",
       "1                     0.351   31        0  \n",
       "2                     0.672   32        1  \n",
       "3                     0.167   21        0  \n",
       "4                     2.288   33        1  "
      ]
     },
     "execution_count": 1,
     "metadata": {},
     "output_type": "execute_result"
    }
   ],
   "source": [
    "#Seth Hensley\n",
    "#801055921\n",
    "#homework 2 \n",
    "\n",
    "import numpy as np\n",
    "import matplotlib.pyplot as plt\n",
    "import pandas as pd\n",
    "from sklearn.model_selection import train_test_split\n",
    "from sklearn.model_selection import KFold\n",
    "from sklearn.model_selection import cross_val_score\n",
    "from sklearn.linear_model import LogisticRegression\n",
    "from sklearn.metrics import confusion_matrix \n",
    "from sklearn.metrics import classification_report\n",
    "from sklearn import datasets \n",
    "from sklearn.preprocessing import StandardScaler\n",
    "\n",
    "dataset = pd.read_csv(\"C:\\\\Users\\\\Owner\\\\Desktop\\\\Intro to ML\\\\diabetes.csv\")\n",
    "dataset.head()\n"
   ]
  },
  {
   "cell_type": "code",
   "execution_count": 2,
   "id": "1c40d3d4-ec4c-4f01-be3c-e638c7f569bd",
   "metadata": {},
   "outputs": [
    {
     "data": {
      "text/plain": [
       "(array([[  0.   ,   6.   , 148.   , ...,  33.6  ,   0.627,  50.   ],\n",
       "        [  0.   ,   1.   ,  85.   , ...,  26.6  ,   0.351,  31.   ],\n",
       "        [  0.   ,   8.   , 183.   , ...,  23.3  ,   0.672,  32.   ],\n",
       "        ...,\n",
       "        [  0.   ,   5.   , 121.   , ...,  26.2  ,   0.245,  30.   ],\n",
       "        [  0.   ,   1.   , 126.   , ...,  30.1  ,   0.349,  47.   ],\n",
       "        [  0.   ,   1.   ,  93.   , ...,  30.4  ,   0.315,  23.   ]]),\n",
       " 0      1\n",
       " 1      0\n",
       " 2      1\n",
       " 3      0\n",
       " 4      1\n",
       "       ..\n",
       " 763    0\n",
       " 764    0\n",
       " 765    0\n",
       " 766    1\n",
       " 767    0\n",
       " Name: Outcome, Length: 768, dtype: int64)"
      ]
     },
     "execution_count": 2,
     "metadata": {},
     "output_type": "execute_result"
    }
   ],
   "source": [
    "x1 = dataset.values[:,0]\n",
    "x2 = dataset.values[:,1]\n",
    "x3 = dataset.values[:,2]\n",
    "x4 = dataset.values[:,3]\n",
    "x5 = dataset.values[:,4]\n",
    "x6 = dataset.values[:,5]\n",
    "x7 = dataset.values[:,6]\n",
    "x8 = dataset.values[:,7]\n",
    "\n",
    "Y = dataset.Outcome\n",
    "m = len(Y)\n",
    "x0 = np.zeros((m,1))\n",
    "x1 =x1.reshape(m,1)\n",
    "x2 =x2.reshape(m,1)\n",
    "x3 =x3.reshape(m,1)\n",
    "x4 =x4.reshape(m,1)\n",
    "x5 =x5.reshape(m,1)\n",
    "x6 =x6.reshape(m,1)\n",
    "x7 =x7.reshape(m,1)\n",
    "x8 =x8.reshape(m,1)\n",
    "\n",
    "\n",
    "X = np.hstack((x0,x1,x2,x3,x4,x5,x6,x7,x8))\n",
    "\n",
    "X,Y"
   ]
  },
  {
   "cell_type": "code",
   "execution_count": 4,
   "id": "30a508fc-de1f-4612-b3a4-aa9f7cf32b5b",
   "metadata": {},
   "outputs": [
    {
     "data": {
      "text/plain": [
       "array([[ 0.        , -0.84466975, -0.65217248, ..., -0.85828111,\n",
       "         0.5366396 , -0.43171756],\n",
       "       [ 0.        , -0.25059503,  2.23343769, ..., -0.13869032,\n",
       "        -0.53398763,  0.08265744],\n",
       "       [ 0.        , -0.25059503, -1.34979252, ...,  0.06690704,\n",
       "        -0.62047284,  0.51130327],\n",
       "       ...,\n",
       "       [ 0.        , -0.54763239, -0.39849247, ..., -0.87113094,\n",
       "        -1.04395213, -1.03182173],\n",
       "       [ 0.        ,  0.04644232, -0.20823246, ..., -0.39568703,\n",
       "        -1.04991662, -0.77463423],\n",
       "       [ 0.        ,  1.53162911,  1.40897764, ..., -0.2029395 ,\n",
       "        -0.52504088,  1.36859494]])"
      ]
     },
     "execution_count": 4,
     "metadata": {},
     "output_type": "execute_result"
    }
   ],
   "source": [
    "xTrain,xTest,yTrain,yTest = train_test_split(X,Y,test_size = .2, random_state = 20)\n",
    "\n",
    "trainLen = len(xTrain)\n",
    "\n",
    "sc = StandardScaler()\n",
    "xTrainSTD = sc.fit_transform(xTrain)\n",
    "xTestSTD = sc.fit_transform(xTest)\n",
    "xTrainSTD"
   ]
  },
  {
   "cell_type": "code",
   "execution_count": 14,
   "id": "2d4393b9-fbfc-478f-b38d-d2f595b70743",
   "metadata": {},
   "outputs": [
    {
     "name": "stdout",
     "output_type": "stream",
     "text": [
      "c: 0.1\n",
      "Training accuracy: 0.6498371335504886\n",
      "test accuracy: 0.6558441558441559\n",
      "\n"
     ]
    }
   ],
   "source": [
    "C = [.1]\n",
    "for c in C:\n",
    "    clf = LogisticRegression(penalty = 'l1', C=c, solver = 'liblinear')\n",
    "    clf.fit(xTrain, yTrain)\n",
    "    print('c:', c)\n",
    "    print( 'Training accuracy:', clf.score(xTrainSTD,yTrain))\n",
    "    print('test accuracy:', clf.score(xTestSTD,yTest))\n",
    "    print('')\n",
    "    "
   ]
  },
  {
   "cell_type": "code",
   "execution_count": 15,
   "id": "92d80c04-2fae-4410-93bd-753bc119491b",
   "metadata": {},
   "outputs": [
    {
     "name": "stdout",
     "output_type": "stream",
     "text": [
      "accuracy: 77.848% (1.441%)\n"
     ]
    }
   ],
   "source": [
    "kfold = KFold(n_splits = 5 , random_state = 0, shuffle= True)\n",
    "model = LogisticRegression(solver = 'liblinear')\n",
    "results = cross_val_score(model, xTrainSTD,yTrain, cv=kfold)\n",
    "\n",
    "print(\"accuracy: %.3f%% (%.3f%%)\" % (results.mean()*100.0, results.std()*100))\n",
    "\n"
   ]
  },
  {
   "cell_type": "code",
   "execution_count": 16,
   "id": "2e173b54-ed60-484e-b639-86f3e59fdb19",
   "metadata": {},
   "outputs": [
    {
     "name": "stdout",
     "output_type": "stream",
     "text": [
      "accuracy: 77.858% (2.358%)\n"
     ]
    }
   ],
   "source": [
    "kfold = KFold(n_splits = 10 , random_state = 0, shuffle= True)\n",
    "model = LogisticRegression(solver = 'liblinear')\n",
    "results = cross_val_score(model, xTrainSTD,yTrain, cv=kfold)\n",
    "\n",
    "print(\"accuracy: %.3f%% (%.3f%%)\" % (results.mean()*100.0, results.std()*100))\n",
    "\n"
   ]
  },
  {
   "cell_type": "code",
   "execution_count": 18,
   "id": "f01c5ed9-c48e-4648-841b-6b7a2109c787",
   "metadata": {},
   "outputs": [
    {
     "name": "stdout",
     "output_type": "stream",
     "text": [
      "[[90 11]\n",
      " [25 28]]\n"
     ]
    }
   ],
   "source": [
    "model = LogisticRegression(solver='liblinear')\n",
    "model.fit(xTrainSTD,yTrain)\n",
    "predicted = model.predict(xTestSTD)\n",
    "matrix = confusion_matrix(yTest, predicted)\n",
    "print(matrix)"
   ]
  },
  {
   "cell_type": "code",
   "execution_count": 19,
   "id": "66103f75-d7dd-45f0-9ac3-4d236e1f9313",
   "metadata": {},
   "outputs": [
    {
     "name": "stdout",
     "output_type": "stream",
     "text": [
      "              precision    recall  f1-score   support\n",
      "\n",
      "           0       0.78      0.89      0.83       101\n",
      "           1       0.72      0.53      0.61        53\n",
      "\n",
      "    accuracy                           0.77       154\n",
      "   macro avg       0.75      0.71      0.72       154\n",
      "weighted avg       0.76      0.77      0.76       154\n",
      "\n"
     ]
    }
   ],
   "source": [
    "model = LogisticRegression(solver='liblinear')\n",
    "model.fit(xTrainSTD,yTrain)\n",
    "predicted = model.predict(xTestSTD)\n",
    "report = classification_report(yTest,predicted)\n",
    "print(report)"
   ]
  },
  {
   "cell_type": "code",
   "execution_count": null,
   "id": "293740e8-2698-48ec-b4d4-8b893f71b7c6",
   "metadata": {},
   "outputs": [],
   "source": []
  }
 ],
 "metadata": {
  "kernelspec": {
   "display_name": "Python 3 (ipykernel)",
   "language": "python",
   "name": "python3"
  },
  "language_info": {
   "codemirror_mode": {
    "name": "ipython",
    "version": 3
   },
   "file_extension": ".py",
   "mimetype": "text/x-python",
   "name": "python",
   "nbconvert_exporter": "python",
   "pygments_lexer": "ipython3",
   "version": "3.9.12"
  }
 },
 "nbformat": 4,
 "nbformat_minor": 5
}
