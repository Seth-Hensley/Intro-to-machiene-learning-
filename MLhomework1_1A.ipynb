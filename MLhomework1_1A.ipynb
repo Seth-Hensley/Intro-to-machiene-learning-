{
 "cells": [
  {
   "cell_type": "code",
   "execution_count": 102,
   "id": "b4d84281-753a-4ecf-8fc0-54e6dca4c9a6",
   "metadata": {},
   "outputs": [
    {
     "data": {
      "text/plain": [
       "(      price  area  bedrooms  bathrooms  stories mainroad guestroom basement  \\\n",
       " 0  13300000  7420         4          2        3      yes        no       no   \n",
       " 1  12250000  8960         4          4        4      yes        no       no   \n",
       " 2  12250000  9960         3          2        2      yes        no      yes   \n",
       " 3  12215000  7500         4          2        2      yes        no      yes   \n",
       " 4  11410000  7420         4          1        2      yes       yes      yes   \n",
       " \n",
       "   hotwaterheating airconditioning  parking prefarea furnishingstatus  \n",
       " 0              no             yes        2      yes        furnished  \n",
       " 1              no             yes        3       no        furnished  \n",
       " 2              no              no        2      yes   semi-furnished  \n",
       " 3              no             yes        3      yes        furnished  \n",
       " 4              no             yes        2       no        furnished  ,\n",
       " (545, 13))"
      ]
     },
     "execution_count": 115,
     "metadata": {},
     "output_type": "execute_result"
    }
   ],
   "source": [
    "#seth hensley\n",
    "#80105592\n",
    "#homework 1\n",
    "\n",
    "import numpy as np\n",
    "import matplotlib.pyplot as plt\n",
    "import pandas as pd\n",
    "\n",
    "alpha = .00000001\n",
    "iterations = 300\n",
    "dataset = pd.read_csv(\"C:\\\\Users\\\\shens\\\\Desktop\\\\Housing.csv\")\n",
    "dataset.head(),dataset.shape"
   ]
  },
  {
   "cell_type": "code",
   "execution_count": 129,
   "id": "cd410d14-3641-43d9-9f5b-68f8c98e3d55",
   "metadata": {},
   "outputs": [],
   "source": [
    "x1= dataset.values[:,1]\n",
    "x2= dataset.values[:,2]\n",
    "x3= dataset.values[:,3]\n",
    "x4= dataset.values[:,4]\n",
    "x10= dataset.values[:,10]\n",
    "Y = dataset.values[:,0]\n",
    "\n",
    "m = len(Y)\n",
    "\n",
    "x0 = np.ones((m,1))\n",
    "x1 =x1.reshape(m,1)\n",
    "x2 =x2.reshape(m,1)\n",
    "x3 =x3.reshape(m,1)\n",
    "x4 =x4.reshape(m,1)\n",
    "x10 =x10.reshape(m,1)\n",
    "\n",
    "X = np.hstack((x0,x1,x2,x3,x4,x10))\n",
    "#X,m\n"
   ]
  },
  {
   "cell_type": "code",
   "execution_count": 130,
   "id": "3d2f574d-7645-4795-9dfb-86b6196a93fc",
   "metadata": {},
   "outputs": [
    {
     "data": {
      "text/plain": [
       "(436,\n",
       " array([[1.0, 1905, 5, 1, 2, 0],\n",
       "        [1.0, 8250, 3, 1, 1, 2],\n",
       "        [1.0, 4400, 4, 1, 2, 2],\n",
       "        ...,\n",
       "        [1.0, 5850, 2, 1, 1, 2],\n",
       "        [1.0, 6615, 4, 2, 2, 1],\n",
       "        [1.0, 3480, 3, 1, 2, 1]], dtype=object))"
      ]
     },
     "execution_count": 130,
     "metadata": {},
     "output_type": "execute_result"
    }
   ],
   "source": [
    "from sklearn.model_selection import train_test_split\n",
    "\n",
    "xTrain,xTest,yTrain,yTest = train_test_split(X,Y,test_size = .2, random_state = 50)\n",
    "mtrain = len(xTrain)\n",
    "mtrain,xTrain"
   ]
  },
  {
   "cell_type": "code",
   "execution_count": 131,
   "id": "e28d2221-f377-4820-8b0b-ade5621ba35c",
   "metadata": {},
   "outputs": [],
   "source": [
    "def findLoss(X, Y, theta):\n",
    "    predictions = X.dot(theta) \n",
    "    errors = np.subtract(predictions, Y) \n",
    "    sqrErrors = np.square(errors) \n",
    "    J = 1 / (2 * m) * np.sum(sqrErrors)\n",
    "    return J\n",
    "\n",
    "#error = findLoss(X, Y, theta)\n",
    "#error"
   ]
  },
  {
   "cell_type": "code",
   "execution_count": 132,
   "id": "38af32b3-3aa3-42a2-a416-5987f731fa2d",
   "metadata": {},
   "outputs": [],
   "source": [
    "def gradientDescentLOSS(X, Y, theta, alpha, iterations,xTest,yTest):\n",
    "    \n",
    "    cost_history = np.zeros(iterations)\n",
    "    cost_historyTest = np.zeros(iterations)\n",
    "    for i in range(iterations): \n",
    "        predictions = X.dot(theta) \n",
    "        errors = np.subtract(predictions, Y) \n",
    "        sum_delta = (alpha / m) * X.transpose().dot(errors); \n",
    "        theta = theta - sum_delta;\n",
    "        cost_history[i] = findLoss(X, Y, theta)\n",
    "        cost_historyTest[i] = findLoss(xTest,yTest,theta)\n",
    "    return theta, cost_history, cost_historyTest"
   ]
  },
  {
   "cell_type": "code",
   "execution_count": null,
   "id": "322d7f56-fe61-4a9c-914a-47d9467acf0e",
   "metadata": {},
   "outputs": [],
   "source": []
  },
  {
   "cell_type": "code",
   "execution_count": 133,
   "id": "9fadbdbf-47eb-47c5-8109-4ffb241df9c5",
   "metadata": {},
   "outputs": [
    {
     "data": {
      "text/plain": [
       "(array([1.21920423801514, 855.7056999852314, 4.513547774432263,\n",
       "        2.4889582218281685, 3.8445801902715804, 1.0274881739508228],\n",
       "       dtype=object),\n",
       " array([7.08082115e+12, 4.23080593e+12, 2.88290375e+12, 2.24541933e+12,\n",
       "        1.94392386e+12, 1.80133288e+12, 1.73389509e+12, 1.70200066e+12,\n",
       "        1.68691630e+12, 1.67978221e+12, 1.67640814e+12, 1.67481237e+12,\n",
       "        1.67405764e+12, 1.67370067e+12, 1.67353182e+12, 1.67345194e+12,\n",
       "        1.67341414e+12, 1.67339624e+12, 1.67338776e+12, 1.67338372e+12,\n",
       "        1.67338179e+12, 1.67338086e+12, 1.67338039e+12, 1.67338015e+12,\n",
       "        1.67338002e+12, 1.67337993e+12, 1.67337987e+12, 1.67337982e+12,\n",
       "        1.67337977e+12, 1.67337973e+12, 1.67337969e+12, 1.67337965e+12,\n",
       "        1.67337961e+12, 1.67337957e+12, 1.67337952e+12, 1.67337948e+12,\n",
       "        1.67337944e+12, 1.67337940e+12, 1.67337936e+12, 1.67337932e+12,\n",
       "        1.67337928e+12, 1.67337924e+12, 1.67337920e+12, 1.67337916e+12,\n",
       "        1.67337911e+12, 1.67337907e+12, 1.67337903e+12, 1.67337899e+12,\n",
       "        1.67337895e+12, 1.67337891e+12, 1.67337887e+12, 1.67337883e+12,\n",
       "        1.67337879e+12, 1.67337875e+12, 1.67337871e+12, 1.67337866e+12,\n",
       "        1.67337862e+12, 1.67337858e+12, 1.67337854e+12, 1.67337850e+12,\n",
       "        1.67337846e+12, 1.67337842e+12, 1.67337838e+12, 1.67337834e+12,\n",
       "        1.67337830e+12, 1.67337825e+12, 1.67337821e+12, 1.67337817e+12,\n",
       "        1.67337813e+12, 1.67337809e+12, 1.67337805e+12, 1.67337801e+12,\n",
       "        1.67337797e+12, 1.67337793e+12, 1.67337789e+12, 1.67337784e+12,\n",
       "        1.67337780e+12, 1.67337776e+12, 1.67337772e+12, 1.67337768e+12,\n",
       "        1.67337764e+12, 1.67337760e+12, 1.67337756e+12, 1.67337752e+12,\n",
       "        1.67337748e+12, 1.67337744e+12, 1.67337739e+12, 1.67337735e+12,\n",
       "        1.67337731e+12, 1.67337727e+12, 1.67337723e+12, 1.67337719e+12,\n",
       "        1.67337715e+12, 1.67337711e+12, 1.67337707e+12, 1.67337703e+12,\n",
       "        1.67337698e+12, 1.67337694e+12, 1.67337690e+12, 1.67337686e+12,\n",
       "        1.67337682e+12, 1.67337678e+12, 1.67337674e+12, 1.67337670e+12,\n",
       "        1.67337666e+12, 1.67337662e+12, 1.67337658e+12, 1.67337653e+12,\n",
       "        1.67337649e+12, 1.67337645e+12, 1.67337641e+12, 1.67337637e+12,\n",
       "        1.67337633e+12, 1.67337629e+12, 1.67337625e+12, 1.67337621e+12,\n",
       "        1.67337617e+12, 1.67337612e+12, 1.67337608e+12, 1.67337604e+12,\n",
       "        1.67337600e+12, 1.67337596e+12, 1.67337592e+12, 1.67337588e+12,\n",
       "        1.67337584e+12, 1.67337580e+12, 1.67337576e+12, 1.67337572e+12,\n",
       "        1.67337567e+12, 1.67337563e+12, 1.67337559e+12, 1.67337555e+12,\n",
       "        1.67337551e+12, 1.67337547e+12, 1.67337543e+12, 1.67337539e+12,\n",
       "        1.67337535e+12, 1.67337531e+12, 1.67337526e+12, 1.67337522e+12,\n",
       "        1.67337518e+12, 1.67337514e+12, 1.67337510e+12, 1.67337506e+12,\n",
       "        1.67337502e+12, 1.67337498e+12, 1.67337494e+12, 1.67337490e+12,\n",
       "        1.67337486e+12, 1.67337481e+12, 1.67337477e+12, 1.67337473e+12,\n",
       "        1.67337469e+12, 1.67337465e+12, 1.67337461e+12, 1.67337457e+12,\n",
       "        1.67337453e+12, 1.67337449e+12, 1.67337445e+12, 1.67337440e+12,\n",
       "        1.67337436e+12, 1.67337432e+12, 1.67337428e+12, 1.67337424e+12,\n",
       "        1.67337420e+12, 1.67337416e+12, 1.67337412e+12, 1.67337408e+12,\n",
       "        1.67337404e+12, 1.67337399e+12, 1.67337395e+12, 1.67337391e+12,\n",
       "        1.67337387e+12, 1.67337383e+12, 1.67337379e+12, 1.67337375e+12,\n",
       "        1.67337371e+12, 1.67337367e+12, 1.67337363e+12, 1.67337359e+12,\n",
       "        1.67337354e+12, 1.67337350e+12, 1.67337346e+12, 1.67337342e+12,\n",
       "        1.67337338e+12, 1.67337334e+12, 1.67337330e+12, 1.67337326e+12,\n",
       "        1.67337322e+12, 1.67337318e+12, 1.67337313e+12, 1.67337309e+12,\n",
       "        1.67337305e+12, 1.67337301e+12, 1.67337297e+12, 1.67337293e+12,\n",
       "        1.67337289e+12, 1.67337285e+12, 1.67337281e+12, 1.67337277e+12,\n",
       "        1.67337273e+12, 1.67337268e+12, 1.67337264e+12, 1.67337260e+12,\n",
       "        1.67337256e+12, 1.67337252e+12, 1.67337248e+12, 1.67337244e+12,\n",
       "        1.67337240e+12, 1.67337236e+12, 1.67337232e+12, 1.67337227e+12,\n",
       "        1.67337223e+12, 1.67337219e+12, 1.67337215e+12, 1.67337211e+12,\n",
       "        1.67337207e+12, 1.67337203e+12, 1.67337199e+12, 1.67337195e+12,\n",
       "        1.67337191e+12, 1.67337187e+12, 1.67337182e+12, 1.67337178e+12,\n",
       "        1.67337174e+12, 1.67337170e+12, 1.67337166e+12, 1.67337162e+12,\n",
       "        1.67337158e+12, 1.67337154e+12, 1.67337150e+12, 1.67337146e+12,\n",
       "        1.67337141e+12, 1.67337137e+12, 1.67337133e+12, 1.67337129e+12,\n",
       "        1.67337125e+12, 1.67337121e+12, 1.67337117e+12, 1.67337113e+12,\n",
       "        1.67337109e+12, 1.67337105e+12, 1.67337101e+12, 1.67337096e+12,\n",
       "        1.67337092e+12, 1.67337088e+12, 1.67337084e+12, 1.67337080e+12,\n",
       "        1.67337076e+12, 1.67337072e+12, 1.67337068e+12, 1.67337064e+12,\n",
       "        1.67337060e+12, 1.67337055e+12, 1.67337051e+12, 1.67337047e+12,\n",
       "        1.67337043e+12, 1.67337039e+12, 1.67337035e+12, 1.67337031e+12,\n",
       "        1.67337027e+12, 1.67337023e+12, 1.67337019e+12, 1.67337015e+12,\n",
       "        1.67337010e+12, 1.67337006e+12, 1.67337002e+12, 1.67336998e+12,\n",
       "        1.67336994e+12, 1.67336990e+12, 1.67336986e+12, 1.67336982e+12,\n",
       "        1.67336978e+12, 1.67336974e+12, 1.67336969e+12, 1.67336965e+12,\n",
       "        1.67336961e+12, 1.67336957e+12, 1.67336953e+12, 1.67336949e+12,\n",
       "        1.67336945e+12, 1.67336941e+12, 1.67336937e+12, 1.67336933e+12,\n",
       "        1.67336928e+12, 1.67336924e+12, 1.67336920e+12, 1.67336916e+12,\n",
       "        1.67336912e+12, 1.67336908e+12, 1.67336904e+12, 1.67336900e+12,\n",
       "        1.67336896e+12, 1.67336892e+12, 1.67336888e+12, 1.67336883e+12,\n",
       "        1.67336879e+12, 1.67336875e+12, 1.67336871e+12, 1.67336867e+12]),\n",
       " array([1.39130596e+12, 8.21793544e+11, 5.40917093e+11, 4.00149843e+11,\n",
       "        3.28122445e+11, 2.90307904e+11, 2.69845113e+11, 2.58394015e+11,\n",
       "        2.51758744e+11, 2.47781940e+11, 2.45324357e+11, 2.43765402e+11,\n",
       "        2.42755318e+11, 2.42090007e+11, 2.41646337e+11, 2.41347781e+11,\n",
       "        2.41145562e+11, 2.41007960e+11, 2.40914022e+11, 2.40849746e+11,\n",
       "        2.40805696e+11, 2.40775474e+11, 2.40754723e+11, 2.40740467e+11,\n",
       "        2.40730668e+11, 2.40723932e+11, 2.40719298e+11, 2.40716111e+11,\n",
       "        2.40713918e+11, 2.40712407e+11, 2.40711367e+11, 2.40710649e+11,\n",
       "        2.40710154e+11, 2.40709812e+11, 2.40709574e+11, 2.40709409e+11,\n",
       "        2.40709293e+11, 2.40709212e+11, 2.40709154e+11, 2.40709112e+11,\n",
       "        2.40709082e+11, 2.40709059e+11, 2.40709041e+11, 2.40709027e+11,\n",
       "        2.40709015e+11, 2.40709005e+11, 2.40708996e+11, 2.40708988e+11,\n",
       "        2.40708981e+11, 2.40708974e+11, 2.40708967e+11, 2.40708961e+11,\n",
       "        2.40708954e+11, 2.40708948e+11, 2.40708942e+11, 2.40708935e+11,\n",
       "        2.40708929e+11, 2.40708923e+11, 2.40708917e+11, 2.40708910e+11,\n",
       "        2.40708904e+11, 2.40708898e+11, 2.40708892e+11, 2.40708886e+11,\n",
       "        2.40708879e+11, 2.40708873e+11, 2.40708867e+11, 2.40708861e+11,\n",
       "        2.40708855e+11, 2.40708849e+11, 2.40708842e+11, 2.40708836e+11,\n",
       "        2.40708830e+11, 2.40708824e+11, 2.40708818e+11, 2.40708811e+11,\n",
       "        2.40708805e+11, 2.40708799e+11, 2.40708793e+11, 2.40708787e+11,\n",
       "        2.40708781e+11, 2.40708774e+11, 2.40708768e+11, 2.40708762e+11,\n",
       "        2.40708756e+11, 2.40708750e+11, 2.40708744e+11, 2.40708737e+11,\n",
       "        2.40708731e+11, 2.40708725e+11, 2.40708719e+11, 2.40708713e+11,\n",
       "        2.40708706e+11, 2.40708700e+11, 2.40708694e+11, 2.40708688e+11,\n",
       "        2.40708682e+11, 2.40708676e+11, 2.40708669e+11, 2.40708663e+11,\n",
       "        2.40708657e+11, 2.40708651e+11, 2.40708645e+11, 2.40708638e+11,\n",
       "        2.40708632e+11, 2.40708626e+11, 2.40708620e+11, 2.40708614e+11,\n",
       "        2.40708608e+11, 2.40708601e+11, 2.40708595e+11, 2.40708589e+11,\n",
       "        2.40708583e+11, 2.40708577e+11, 2.40708570e+11, 2.40708564e+11,\n",
       "        2.40708558e+11, 2.40708552e+11, 2.40708546e+11, 2.40708540e+11,\n",
       "        2.40708533e+11, 2.40708527e+11, 2.40708521e+11, 2.40708515e+11,\n",
       "        2.40708509e+11, 2.40708503e+11, 2.40708496e+11, 2.40708490e+11,\n",
       "        2.40708484e+11, 2.40708478e+11, 2.40708472e+11, 2.40708465e+11,\n",
       "        2.40708459e+11, 2.40708453e+11, 2.40708447e+11, 2.40708441e+11,\n",
       "        2.40708435e+11, 2.40708428e+11, 2.40708422e+11, 2.40708416e+11,\n",
       "        2.40708410e+11, 2.40708404e+11, 2.40708397e+11, 2.40708391e+11,\n",
       "        2.40708385e+11, 2.40708379e+11, 2.40708373e+11, 2.40708367e+11,\n",
       "        2.40708360e+11, 2.40708354e+11, 2.40708348e+11, 2.40708342e+11,\n",
       "        2.40708336e+11, 2.40708330e+11, 2.40708323e+11, 2.40708317e+11,\n",
       "        2.40708311e+11, 2.40708305e+11, 2.40708299e+11, 2.40708292e+11,\n",
       "        2.40708286e+11, 2.40708280e+11, 2.40708274e+11, 2.40708268e+11,\n",
       "        2.40708262e+11, 2.40708255e+11, 2.40708249e+11, 2.40708243e+11,\n",
       "        2.40708237e+11, 2.40708231e+11, 2.40708224e+11, 2.40708218e+11,\n",
       "        2.40708212e+11, 2.40708206e+11, 2.40708200e+11, 2.40708194e+11,\n",
       "        2.40708187e+11, 2.40708181e+11, 2.40708175e+11, 2.40708169e+11,\n",
       "        2.40708163e+11, 2.40708157e+11, 2.40708150e+11, 2.40708144e+11,\n",
       "        2.40708138e+11, 2.40708132e+11, 2.40708126e+11, 2.40708119e+11,\n",
       "        2.40708113e+11, 2.40708107e+11, 2.40708101e+11, 2.40708095e+11,\n",
       "        2.40708089e+11, 2.40708082e+11, 2.40708076e+11, 2.40708070e+11,\n",
       "        2.40708064e+11, 2.40708058e+11, 2.40708051e+11, 2.40708045e+11,\n",
       "        2.40708039e+11, 2.40708033e+11, 2.40708027e+11, 2.40708021e+11,\n",
       "        2.40708014e+11, 2.40708008e+11, 2.40708002e+11, 2.40707996e+11,\n",
       "        2.40707990e+11, 2.40707984e+11, 2.40707977e+11, 2.40707971e+11,\n",
       "        2.40707965e+11, 2.40707959e+11, 2.40707953e+11, 2.40707946e+11,\n",
       "        2.40707940e+11, 2.40707934e+11, 2.40707928e+11, 2.40707922e+11,\n",
       "        2.40707916e+11, 2.40707909e+11, 2.40707903e+11, 2.40707897e+11,\n",
       "        2.40707891e+11, 2.40707885e+11, 2.40707878e+11, 2.40707872e+11,\n",
       "        2.40707866e+11, 2.40707860e+11, 2.40707854e+11, 2.40707848e+11,\n",
       "        2.40707841e+11, 2.40707835e+11, 2.40707829e+11, 2.40707823e+11,\n",
       "        2.40707817e+11, 2.40707811e+11, 2.40707804e+11, 2.40707798e+11,\n",
       "        2.40707792e+11, 2.40707786e+11, 2.40707780e+11, 2.40707773e+11,\n",
       "        2.40707767e+11, 2.40707761e+11, 2.40707755e+11, 2.40707749e+11,\n",
       "        2.40707743e+11, 2.40707736e+11, 2.40707730e+11, 2.40707724e+11,\n",
       "        2.40707718e+11, 2.40707712e+11, 2.40707705e+11, 2.40707699e+11,\n",
       "        2.40707693e+11, 2.40707687e+11, 2.40707681e+11, 2.40707675e+11,\n",
       "        2.40707668e+11, 2.40707662e+11, 2.40707656e+11, 2.40707650e+11,\n",
       "        2.40707644e+11, 2.40707638e+11, 2.40707631e+11, 2.40707625e+11,\n",
       "        2.40707619e+11, 2.40707613e+11, 2.40707607e+11, 2.40707600e+11,\n",
       "        2.40707594e+11, 2.40707588e+11, 2.40707582e+11, 2.40707576e+11,\n",
       "        2.40707570e+11, 2.40707563e+11, 2.40707557e+11, 2.40707551e+11,\n",
       "        2.40707545e+11, 2.40707539e+11, 2.40707532e+11, 2.40707526e+11,\n",
       "        2.40707520e+11, 2.40707514e+11, 2.40707508e+11, 2.40707502e+11,\n",
       "        2.40707495e+11, 2.40707489e+11, 2.40707483e+11, 2.40707477e+11,\n",
       "        2.40707471e+11, 2.40707465e+11, 2.40707458e+11, 2.40707452e+11,\n",
       "        2.40707446e+11, 2.40707440e+11, 2.40707434e+11, 2.40707427e+11]))"
      ]
     },
     "execution_count": 133,
     "metadata": {},
     "output_type": "execute_result"
    }
   ],
   "source": [
    "theta = np.zeros(6)\n",
    "\n",
    "thetaOUT, losshistory, lossValidation = gradientDescentLOSS(X, Y, theta, alpha, iterations,xTest,yTest)\n",
    "thetaOUT,losshistory,lossValidation"
   ]
  },
  {
   "cell_type": "code",
   "execution_count": 134,
   "id": "a19c9188-acae-4ee3-b83c-e56ecd162dc7",
   "metadata": {},
   "outputs": [],
   "source": [
    "lossP1 = losshistory.reshape(iterations,1)\n",
    "losstest = lossValidation.reshape(iterations,1)\n",
    "#lossP1"
   ]
  },
  {
   "cell_type": "code",
   "execution_count": 135,
   "id": "f8569b6f-94be-4903-ac09-1d9b139ad934",
   "metadata": {},
   "outputs": [
    {
     "data": {
      "text/plain": [
       "Text(0.5, 1.0, 'Convergence of gradient descent')"
      ]
     },
     "execution_count": 135,
     "metadata": {},
     "output_type": "execute_result"
    },
    {
     "data": {
      "image/png": "[encoded data removed]",
      "text/plain": [
       "<Figure size 720x432 with 1 Axes>"
      ]
     },
     "metadata": {
      "needs_background": "light"
     },
     "output_type": "display_data"
    }
   ],
   "source": [
    "plt.plot(range(1, iterations + 1),lossP1, color='blue') \n",
    "plt.plot(range(1, iterations + 1),losstest, color='red') \n",
    "\n",
    "plt.rcParams[\"figure.figsize\"] = (10,6) \n",
    "plt.grid() \n",
    "plt.xlabel('Number of iterations') \n",
    "plt.ylabel('Cost (J)') \n",
    "plt.title('Convergence of gradient descent') "
   ]
  },
  {
   "cell_type": "code",
   "execution_count": null,
   "id": "7c9e9c94-130b-4047-93ec-8733eb383148",
   "metadata": {},
   "outputs": [],
   "source": []
  },
  {
   "cell_type": "code",
   "execution_count": null,
   "id": "c13ce3e2-78cb-4e01-b9d9-03f90c8e2383",
   "metadata": {},
   "outputs": [],
   "source": []
  }
 ],
 "metadata": {
  "kernelspec": {
   "display_name": "Python 3 (ipykernel)",
   "language": "python",
   "name": "python3"
  },
  "language_info": {
   "codemirror_mode": {
    "name": "ipython",
    "version": 3
   },
   "file_extension": ".py",
   "mimetype": "text/x-python",
   "name": "python",
   "nbconvert_exporter": "python",
   "pygments_lexer": "ipython3",
   "version": "3.9.12"
  }
 },
 "nbformat": 4,
 "nbformat_minor": 5
}
